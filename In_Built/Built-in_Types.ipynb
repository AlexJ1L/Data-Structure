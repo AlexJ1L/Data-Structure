{
 "cells": [
  {
   "cell_type": "code",
   "execution_count": 280,
   "metadata": {},
   "outputs": [
    {
     "name": "stdout",
     "output_type": "stream",
     "text": [
      "[1, 3, 6, 20, 13, 92, 14]\n",
      "11.55\n",
      "4\n"
     ]
    }
   ],
   "source": [
    "#ABSOLUTE()\n",
    "myList = [1,3,6,20,-13,-92,-14]\n",
    "myNewList = [abs(i) for i in myList]\n",
    "print(myNewList)\n",
    "\n",
    "print(abs(-11.55))\n",
    "print(abs(-4))"
   ]
  },
  {
   "cell_type": "code",
   "execution_count": 281,
   "metadata": {},
   "outputs": [
    {
     "name": "stdout",
     "output_type": "stream",
     "text": [
      "False\n",
      "True\n"
     ]
    },
    {
     "data": {
      "text/plain": [
       "True"
      ]
     },
     "execution_count": 281,
     "metadata": {},
     "output_type": "execute_result"
    }
   ],
   "source": [
    "#ALL ()--- Everything that is empty is True\n",
    "Hola = [\"False\",23424,\"adasss\",0]\n",
    "print(all(Hola))\n",
    "\n",
    "Hola2 = [\"True\",23424,\"adasss\"] #Also True if they are empty\n",
    "print(all(Hola2))\n",
    "\n",
    "listSame = [1,1,1,1]\n",
    "all([x == 1 for x in listSame])"
   ]
  },
  {
   "cell_type": "code",
   "execution_count": 282,
   "metadata": {},
   "outputs": [
    {
     "name": "stdout",
     "output_type": "stream",
     "text": [
      "False\n",
      "False\n",
      "True\n",
      "True\n",
      "True\n",
      "False\n"
     ]
    }
   ],
   "source": [
    "#ANY --- Everything that is empty is False\n",
    "print(any([\"\"]))\n",
    "print(any([\"\",False, 0]))\n",
    "print(any([\"\",False, 0, 1]))\n",
    "print(any([\"\",False, 0, \"Hey\"]))\n",
    "\n",
    "names = [\"John\",\"Joe\",\"James\"]\n",
    "print(any([x == \"Joe\" for x in names]))\n",
    "print(all([x == \"James\" for x in names]))"
   ]
  },
  {
   "cell_type": "code",
   "execution_count": 283,
   "metadata": {},
   "outputs": [
    {
     "name": "stdout",
     "output_type": "stream",
     "text": [
      "1\n",
      "'hey'\n",
      "<class 'str'>\n",
      "'encod\\xe9'\n"
     ]
    }
   ],
   "source": [
    "#ASCII()\n",
    "print(ascii(1))\n",
    "print(ascii(\"hey\"))\n",
    "print(type(ascii([]))) #Se con vierten en String\n",
    "print(ascii(\"encodé\"))"
   ]
  },
  {
   "cell_type": "code",
   "execution_count": 284,
   "metadata": {},
   "outputs": [
    {
     "name": "stdout",
     "output_type": "stream",
     "text": [
      "0b1\n",
      "-0b10\n",
      "0b100\n",
      "<class 'str'>\n"
     ]
    },
    {
     "data": {
      "text/plain": [
       "'1100100'"
      ]
     },
     "execution_count": 284,
     "metadata": {},
     "output_type": "execute_result"
    }
   ],
   "source": [
    "#BIN()\n",
    "print(bin(1))\n",
    "print(bin(-2))\n",
    "print(bin(4))\n",
    "print(type(bin(1))) #Return String\n",
    "(format(100, \"b\"))"
   ]
  },
  {
   "cell_type": "code",
   "execution_count": 289,
   "metadata": {},
   "outputs": [
    {
     "name": "stdout",
     "output_type": "stream",
     "text": [
      "True\n",
      "True\n",
      "True\n",
      "False\n",
      "True\n"
     ]
    }
   ],
   "source": [
    "#BOOl()\n",
    "print(bool(1))\n",
    "print(bool(1221))\n",
    "print(bool(1.3))\n",
    "print(bool(False))\n",
    "print(bool([0,0,False]))"
   ]
  },
  {
   "cell_type": "code",
   "execution_count": null,
   "metadata": {},
   "outputs": [],
   "source": [
    "#BREAKPOINT()"
   ]
  }
 ],
 "metadata": {
  "kernelspec": {
   "display_name": "Python 3",
   "language": "python",
   "name": "python3"
  },
  "language_info": {
   "codemirror_mode": {
    "name": "ipython",
    "version": 3
   },
   "file_extension": ".py",
   "mimetype": "text/x-python",
   "name": "python",
   "nbconvert_exporter": "python",
   "pygments_lexer": "ipython3",
   "version": "3.10.10"
  },
  "orig_nbformat": 4
 },
 "nbformat": 4,
 "nbformat_minor": 2
}
