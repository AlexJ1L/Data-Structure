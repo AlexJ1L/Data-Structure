{
 "cells": [
  {
   "cell_type": "code",
   "execution_count": 2,
   "metadata": {},
   "outputs": [
    {
     "name": "stdout",
     "output_type": "stream",
     "text": [
      "                         Dave             Ava               Joe\n",
      "ID                        001             002               003\n",
      "Salary                   2000            2300              1843\n",
      "Designation  Python Developer  Java Developer  Hadoop Developer\n"
     ]
    }
   ],
   "source": [
    "import pandas as pd\n",
    "\n",
    "emp_details = {\n",
    "        'Employee': \n",
    "        {'Dave':\n",
    "        {'ID': '001',\n",
    "                'Salary': 2000,\n",
    "                'Designation':'Python Developer'\n",
    "                },\n",
    "        'Ava': \n",
    "        {'ID':'002',\n",
    "                'Salary': 2300,\n",
    "                'Designation': 'Java Developer'\n",
    "                },         \n",
    "        'Joe': \n",
    "        {'ID': '003',\n",
    "                'Salary': 1843,\n",
    "                'Designation': 'Hadoop Developer'\n",
    "                }}}\n",
    "df=pd.DataFrame(emp_details['Employee'])\n",
    "print(df)"
   ]
  },
  {
   "cell_type": "code",
   "execution_count": 3,
   "metadata": {},
   "outputs": [
    {
     "name": "stdout",
     "output_type": "stream",
     "text": [
      "<class '__main__.Demo'>\n",
      "<class '__main__.Demo'>\n"
     ]
    }
   ],
   "source": [
    "class Demo: \n",
    "    pass       \n",
    "#This is a class named demo\n",
    "test=Demo()\n",
    "print(test.__class__)#shows class of obj\n",
    "print(type(test))  #alternate method  \n"
   ]
  },
  {
   "cell_type": "code",
   "execution_count": null,
   "metadata": {},
   "outputs": [],
   "source": [
    "class EduFirst(type):\n",
    "    def __new__(cls, name, base_cls, dict):\n",
    "        pass\n",
    "class EduSecond(type):\n",
    "    def __init__(self, name, base_cls, dict):\n",
    "        pass\n",
    "#Let me explain these two methods in detail:\n",
    "\n",
    "#__new__():  is used when a user wants to define a dictionary of tuples before the class creation. It returns an instance of a class and is easy to override/manage the flow of objects.\n",
    "#__init__(): It’s called after the object has already been created and simply initializes it. "
   ]
  },
  {
   "cell_type": "code",
   "execution_count": null,
   "metadata": {},
   "outputs": [],
   "source": [
    "my_dict={'Dave': '004', 'Ava': '002', 'Joe': '003', 'Chris': '005'}\n",
    "del my_dict['Dave']  #removes key-value pair of 'Dave'\n",
    "my_dict.pop('Ava')   #removes the value of 'Ava'\n",
    "my_dict.popitem()    #removes the last inserted item"
   ]
  }
 ],
 "metadata": {
  "kernelspec": {
   "display_name": "Python 3",
   "language": "python",
   "name": "python3"
  },
  "language_info": {
   "codemirror_mode": {
    "name": "ipython",
    "version": 3
   },
   "file_extension": ".py",
   "mimetype": "text/x-python",
   "name": "python",
   "nbconvert_exporter": "python",
   "pygments_lexer": "ipython3",
   "version": "3.10.11"
  },
  "orig_nbformat": 4
 },
 "nbformat": 4,
 "nbformat_minor": 2
}
