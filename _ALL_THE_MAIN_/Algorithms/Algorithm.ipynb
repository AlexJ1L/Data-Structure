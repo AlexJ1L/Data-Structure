{
 "cells": [
  {
   "attachments": {},
   "cell_type": "markdown",
   "metadata": {},
   "source": [
    "# Linear Search\n",
    "\"\"\"En este algoritmo de búsqueda, comprobamos el elemento de forma iterativa de un extremo a otro.\"\"\""
   ]
  },
  {
   "cell_type": "code",
   "execution_count": 31,
   "metadata": {},
   "outputs": [],
   "source": [
    "\"\"\"In this case is Time Complexity: O(N) and Auxiliry Space: O(1)\"\"\" #* SSSSSsssssssS\n",
    "\n",
    "#* Linear Search in Python\n",
    "\n",
    "def linearSearch(array, n, x,t):\n",
    "\n",
    "    # Going through array sequencially\n",
    "    for i in range(0, n):\n",
    "        if (array[i] == x):\n",
    "            return i\n",
    "        if (array[i] == t):\n",
    "            return i\n",
    "\n",
    "    return -1\n"
   ]
  },
  {
   "cell_type": "code",
   "execution_count": 32,
   "metadata": {},
   "outputs": [
    {
     "name": "stdout",
     "output_type": "stream",
     "text": [
      "Element found at index:  0\n"
     ]
    }
   ],
   "source": [
    "# The code is worked\n",
    "arr = [2, 1,4, 0, 1, 9,1]\n",
    "Sear = 1\n",
    "t=2\n",
    "Num = len(arr)\n",
    "\n",
    "result = linearSearch(arr, Num, Sear)\n",
    "\n",
    "if(result == -1):\n",
    "    print(\"Element not found\")\n",
    "else:\n",
    "    print(\"Element found at index: \", result)"
   ]
  },
  {
   "cell_type": "code",
   "execution_count": 15,
   "metadata": {},
   "outputs": [],
   "source": [
    "\"\"\" In this case is Time Complexity: O(N) and Auxiliry Space: O(N) para utilizar el Recursive stack space.\"\"\"\n",
    "\n",
    "#* Linear Search Recursively\n",
    "\n",
    "def linear_search(arr, key, size):\n",
    "\t# If the array is empty we will return -1\n",
    "\tif (size == 0):\n",
    "\t\treturn -1\n",
    "\n",
    "\telif (arr[size - 1] == key):\n",
    "\n",
    "\t\t# Return the index of found key.\n",
    "\t\treturn size - 1\n",
    "\telse:\n",
    "\t\treturn linear_search(arr, key, size - 1)\n"
   ]
  },
  {
   "cell_type": "code",
   "execution_count": 16,
   "metadata": {},
   "outputs": [
    {
     "name": "stdout",
     "output_type": "stream",
     "text": [
      "The element 5 is found at 0 index of the given array.\n"
     ]
    }
   ],
   "source": [
    "arr = [5, 15, 6, 9, 4]\n",
    "key = 5\n",
    "size = len(arr) # 5\n",
    "\n",
    "# Calling the Function\n",
    "ans = linear_search(arr, key, size)\n",
    "if ans != -1:\n",
    "    print(\"The element\", key, \"is found at\", ans, \"index of the given array.\")\n",
    "else:\n",
    "    print(\"The element\", key, \"is not found.\")"
   ]
  },
  {
   "attachments": {},
   "cell_type": "markdown",
   "metadata": {},
   "source": [
    "# Transposition to improve the Linear Search Algorithm"
   ]
  },
  {
   "cell_type": "code",
   "execution_count": 7,
   "metadata": {},
   "outputs": [],
   "source": [
    "# Python3 program for transposition to\n",
    "# improve the Linear Search Algorithm\n",
    "\n",
    "\n",
    "# Structure of the array\n",
    "class Array :\n",
    "\tdef __init__(self,a=[0]*10,size=10,l=0) -> None:\n",
    "\t\tself.A=a\n",
    "\t\tself.size=size\n",
    "\t\tself.length=l\n",
    "\n",
    "# Function to print array element\n",
    "def Display(arr):\n",
    "\n",
    "\t# Traverse the array arr[]\n",
    "\tfor i in range(arr.length) :\n",
    "\t\tprint(arr.A[i],end=\" \")\n",
    "\t\n",
    "\tprint()\n",
    "\n",
    "\n",
    "# Function that performs the Linear\n",
    "# Search Transposition\n",
    "def LinearSearchTransposition(arr, key):\n",
    "\n",
    "\t# Traverse the array\n",
    "\tfor i in range(arr.length) :\n",
    "\n",
    "\t\t# If key is found, then swap\n",
    "\t\t# the element with it's\n",
    "\t\t# previous index\n",
    "\t\tif (key == arr.A[i]) :\n",
    "\n",
    "\t\t\t# If key is first element\n",
    "\t\t\tif (i == 0):\n",
    "\t\t\t\treturn i\n",
    "\n",
    "\t\t\tarr.A[i],arr.A[i - 1]=arr.A[i - 1],arr.A[i]\n",
    "\n",
    "\t\t\treturn i\n",
    "\t\t\n",
    "\t\n",
    "\treturn -1\n",
    "\n"
   ]
  },
  {
   "cell_type": "code",
   "execution_count": 8,
   "metadata": {},
   "outputs": [
    {
     "name": "stdout",
     "output_type": "stream",
     "text": [
      "Elements before Linear Search Transposition: \n",
      "2 23 14 5 6 9 8 12 \n",
      "Elements after Linear Search Transposition: \n",
      "2 23 14 5 6 9 12 8 \n"
     ]
    }
   ],
   "source": [
    "if __name__ == '__main__':\n",
    "\t# Given array arr[]\n",
    "\tarr=Array([2, 23, 14, 5, 6, 9, 8, 12],10,8)\n",
    "\n",
    "\tprint(\"Elements before Linear Search Transposition: \")\n",
    "\n",
    "\t# Function Call for displaying\n",
    "\t# the array arr[]\n",
    "\tDisplay(arr)\n",
    "\n",
    "\t# Function Call for transposition\n",
    "\tLinearSearchTransposition(arr, 12)\n",
    "\n",
    "\tprint(\"Elements after Linear Search Transposition: \")\n",
    "\n",
    "\t# Function Call for displaying\n",
    "\t# the array arr[]\n",
    "\tDisplay(arr)"
   ]
  },
  {
   "cell_type": "code",
   "execution_count": 1,
   "metadata": {},
   "outputs": [],
   "source": [
    "# Python3 program for transposition to\n",
    "# improve the Linear Search Algorithm\n",
    "\n",
    "\n",
    "# Structure of the array\n",
    "class Array :\n",
    "\tdef __init__(self,a=[0]*10,size=10,l=0) -> None:\n",
    "\t\tself.A=a\n",
    "\t\tself.size=size\n",
    "\t\tself.length=l\n",
    "\n",
    "# Function to print array element\n",
    "def Display(arr):\n",
    "\n",
    "\t# Traverse the array arr[]\n",
    "\tfor i in range(arr.length) :\n",
    "\t\tprint(arr.A[i],end=\" \")\n",
    "\t\n",
    "\tprint()\n",
    "\n",
    "\n",
    "# Function that performs the move to\n",
    "# front operation for Linear Search\n",
    "def LinearSearchMoveToFront(arr, key:int): #* Change < :init >\n",
    "\n",
    "\t# Traverse the array\n",
    "\tfor i in range(arr.length) :\n",
    "\n",
    "\t\t# If key is found, then swap #*\n",
    "\t\t# the element with 0-th index\n",
    "\t\tif (key == arr.A[i]) :\n",
    "\t\t\tarr.A[i], arr.A[0]=arr.A[0],arr.A[i] #* Change < 0 >\n",
    "\t\t\treturn i\n",
    "\t\t\n",
    "\t\n",
    "\treturn -1"
   ]
  },
  {
   "cell_type": "code",
   "execution_count": 2,
   "metadata": {},
   "outputs": [
    {
     "name": "stdout",
     "output_type": "stream",
     "text": [
      "Elements before Linear Search Transposition: 2 23 14 5 6 9 8 12 \n",
      "Elements after Linear Search Transposition: 12 23 14 5 6 9 8 2 \n"
     ]
    }
   ],
   "source": [
    "# Driver Code\n",
    "if __name__ == '__main__':\n",
    "\t# Given array arr[]\n",
    "\tarr=Array([2, 23, 14, 5, 6, 9, 8, 12], 10, 8)\n",
    "\n",
    "\tprint(\"Elements before Linear Search Transposition: \",end='')\n",
    "\n",
    "\t# Function Call for displaying\n",
    "\t# the array arr[]\n",
    "\tDisplay(arr)\n",
    "\n",
    "\t# Function Call for transposition\n",
    "\tLinearSearchMoveToFront(arr, 12)\n",
    "\n",
    "\tprint(\"Elements after Linear Search Transposition: \",end='')\n",
    "\n",
    "\t# Function Call for displaying\n",
    "\t# the array arr[]\n",
    "\tDisplay(arr)"
   ]
  }
 ],
 "metadata": {
  "kernelspec": {
   "display_name": "Python 3",
   "language": "python",
   "name": "python3"
  },
  "language_info": {
   "codemirror_mode": {
    "name": "ipython",
    "version": 3
   },
   "file_extension": ".py",
   "mimetype": "text/x-python",
   "name": "python",
   "nbconvert_exporter": "python",
   "pygments_lexer": "ipython3",
   "version": "3.10.11"
  },
  "orig_nbformat": 4
 },
 "nbformat": 4,
 "nbformat_minor": 2
}
