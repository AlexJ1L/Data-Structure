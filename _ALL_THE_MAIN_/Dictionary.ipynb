{
 "cells": [
  {
   "cell_type": "code",
   "execution_count": 10,
   "metadata": {},
   "outputs": [
    {
     "name": "stdout",
     "output_type": "stream",
     "text": [
      "{1: 'Dato 1', '2': 'Dato 2', 3: 'Dato 3', 4: 'Dato 4', 5: 'Dato 5'}\n"
     ]
    }
   ],
   "source": [
    "Dic = {\n",
    "    1:\"Dato 1\",\n",
    "    \"2\":\"Dato 2\",\n",
    "    3:\"Dato 3\",\n",
    "    4:\"Dato 4\",\n",
    "    5:\"Dato 5\"\n",
    "    }\n",
    "print(Dic)"
   ]
  },
  {
   "cell_type": "code",
   "execution_count": 11,
   "metadata": {},
   "outputs": [
    {
     "name": "stdout",
     "output_type": "stream",
     "text": [
      "2023\n"
     ]
    }
   ],
   "source": [
    "DicAnidado = {\n",
    "    1:\"Dato 1\",\n",
    "    2:\"Dato 3\",\n",
    "    3:\"Dato 4\",\n",
    "    4:\n",
    "    { \n",
    "    \"dato1\":\"2021\",\n",
    "    \"dato2\":\"2022\",\n",
    "    \"dato3\":\"2023\",\n",
    "    }\n",
    "    }\n",
    "print(DicAnidado[4][\"dato3\"])"
   ]
  },
  {
   "cell_type": "code",
   "execution_count": 12,
   "metadata": {},
   "outputs": [
    {
     "name": "stdout",
     "output_type": "stream",
     "text": [
      "{1: 'Dato 1', '2': 'Dato 2', 3: 'Dato 3', 4: 'Dato 4', 5: 'Dato 5', 6: 'New_Data'}\n"
     ]
    }
   ],
   "source": [
    "Dic[6]=\"New_Data\"\n",
    "print(Dic)"
   ]
  },
  {
   "cell_type": "code",
   "execution_count": 13,
   "metadata": {},
   "outputs": [
    {
     "name": "stdout",
     "output_type": "stream",
     "text": [
      "{1: 'Dato 1', '2': 'Dato 2', 3: 'Dato 3', 4: 'Dato 4', 5: 'Dato 5', 6: 'Dato 6'}\n"
     ]
    }
   ],
   "source": [
    "Dic[6]=\"Dato 6\"\n",
    "print(Dic)"
   ]
  },
  {
   "cell_type": "code",
   "execution_count": 14,
   "metadata": {},
   "outputs": [
    {
     "name": "stdout",
     "output_type": "stream",
     "text": [
      "Dato 3\n"
     ]
    }
   ],
   "source": [
    "print(Dic[3])"
   ]
  },
  {
   "cell_type": "code",
   "execution_count": 15,
   "metadata": {},
   "outputs": [
    {
     "name": "stdout",
     "output_type": "stream",
     "text": [
      "{1: 'Dato 1', '2': 'Dato 2', 3: 'Dato 3', 4: 'Dato 4', 5: 'Dato 5'}\n"
     ]
    }
   ],
   "source": [
    "del Dic[6]\n",
    "print(Dic)"
   ]
  },
  {
   "cell_type": "code",
   "execution_count": 16,
   "metadata": {},
   "outputs": [
    {
     "name": "stdout",
     "output_type": "stream",
     "text": [
      "True\n",
      "True\n"
     ]
    }
   ],
   "source": [
    "print(1 in Dic)\n",
    "print(20 not in Dic)"
   ]
  },
  {
   "cell_type": "code",
   "execution_count": 17,
   "metadata": {},
   "outputs": [
    {
     "name": "stdout",
     "output_type": "stream",
     "text": [
      "1\n",
      "2\n",
      "3\n",
      "4\n",
      "5\n"
     ]
    }
   ],
   "source": [
    "for i in Dic:\n",
    "    print(i)"
   ]
  },
  {
   "attachments": {},
   "cell_type": "markdown",
   "metadata": {},
   "source": [
    "# Methods in Dictionary"
   ]
  },
  {
   "attachments": {},
   "cell_type": "markdown",
   "metadata": {},
   "source": [
    "# Frozenset()"
   ]
  },
  {
   "cell_type": "code",
   "execution_count": 25,
   "metadata": {},
   "outputs": [
    {
     "name": "stdout",
     "output_type": "stream",
     "text": [
      "The frozen set is: frozenset({'name', 'sex', 'age'})\n"
     ]
    }
   ],
   "source": [
    "# random dictionary\n",
    "person = {\n",
    "        \"name\": \"John\",\n",
    "        \"age\":  23,\n",
    "        \"sex\": \"male\"\n",
    "        }\n",
    "\n",
    "FfSet = frozenset(person)\n",
    "print('The frozen set is:', FfSet)"
   ]
  }
 ],
 "metadata": {
  "kernelspec": {
   "display_name": "Python 3",
   "language": "python",
   "name": "python3"
  },
  "language_info": {
   "codemirror_mode": {
    "name": "ipython",
    "version": 3
   },
   "file_extension": ".py",
   "mimetype": "text/x-python",
   "name": "python",
   "nbconvert_exporter": "python",
   "pygments_lexer": "ipython3",
   "version": "3.10.10"
  },
  "orig_nbformat": 4
 },
 "nbformat": 4,
 "nbformat_minor": 2
}
