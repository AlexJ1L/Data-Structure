{
 "cells": [
  {
   "cell_type": "code",
   "execution_count": 281,
   "metadata": {},
   "outputs": [
    {
     "name": "stdout",
     "output_type": "stream",
     "text": [
      "<class 'list'>\n"
     ]
    }
   ],
   "source": [
    "List = [\"Dato 0\",\"Dato 1\", \"Dato 2\", \"Dato 3\",4973 ,563]\n",
    "print(type(List))"
   ]
  },
  {
   "cell_type": "code",
   "execution_count": 282,
   "metadata": {},
   "outputs": [
    {
     "name": "stdout",
     "output_type": "stream",
     "text": [
      "Dato 0\n",
      "563\n"
     ]
    }
   ],
   "source": [
    "print(List[0])\n",
    "print(List[-1])"
   ]
  },
  {
   "cell_type": "code",
   "execution_count": 291,
   "metadata": {},
   "outputs": [
    {
     "name": "stdout",
     "output_type": "stream",
     "text": [
      "['Dato 0', 'Dato 2', 'Dato 3', 4973, 563, 20, 'Extención', 102344]\n",
      "['Dato 0', 'Dato 2', 'Dato 3']\n",
      "[4973, 563, 20, 'Extención', 102344]\n",
      "['Dato 2', 'Dato 3']\n",
      "[102344, 'Extención', 20, 563, 4973, 'Dato 3', 'Dato 2', 'Dato 0']\n"
     ]
    }
   ],
   "source": [
    "print(List[ : ])\n",
    "print(List[ :3])\n",
    "print(List[3: ])\n",
    "print(List[1:3])\n",
    "print(List[::-1])\n"
   ]
  },
  {
   "cell_type": "code",
   "execution_count": 284,
   "metadata": {},
   "outputs": [
    {
     "name": "stdout",
     "output_type": "stream",
     "text": [
      "['Dato 0', 'Dato 1', 'Dato 2', 'Dato 3', 4973, 563, 20]\n",
      "['Dato 0', 'Dato 1', 'Dato 2', 'Dato 3', 4973, 563, 20, 'Extención', 102344]\n"
     ]
    }
   ],
   "source": [
    "List.append(20)\n",
    "print(List)\n",
    "\n",
    "List2 = [\"Extención\",102344]\n",
    "List.extend(List2)\n",
    "print(List)"
   ]
  },
  {
   "cell_type": "code",
   "execution_count": 285,
   "metadata": {},
   "outputs": [
    {
     "name": "stdout",
     "output_type": "stream",
     "text": [
      "['Dato 0', 'Hola', 'Dato 2', 'Dato 3', 4973, 563, 20, 'Extención', 102344]\n"
     ]
    }
   ],
   "source": [
    "List[1] = \"Hola\"\n",
    "print(List)"
   ]
  },
  {
   "cell_type": "code",
   "execution_count": 286,
   "metadata": {},
   "outputs": [
    {
     "name": "stdout",
     "output_type": "stream",
     "text": [
      "[1, 4, 5, 6, 7, 8]\n",
      "['Dato 0', 'Dato 2', 'Dato 3', 4973, 563, 20, 'Extención', 102344]\n"
     ]
    }
   ],
   "source": [
    "Lista = [0,1,2,3,4,5,6,7,8,9]\n",
    "del Lista[0]\n",
    "del Lista[-1]\n",
    "del Lista[1:3] \n",
    "\n",
    "print(Lista)\n",
    "\n",
    "List.remove(\"Hola\")\n",
    "print(List)"
   ]
  },
  {
   "cell_type": "code",
   "execution_count": 287,
   "metadata": {},
   "outputs": [
    {
     "name": "stdout",
     "output_type": "stream",
     "text": [
      "Dato 0\n",
      "Dato 2\n",
      "Dato 3\n",
      "4973\n",
      "563\n",
      "20\n",
      "Extención\n",
      "102344\n"
     ]
    }
   ],
   "source": [
    "for S in List:\n",
    "    print(S)"
   ]
  },
  {
   "cell_type": "code",
   "execution_count": 288,
   "metadata": {},
   "outputs": [
    {
     "name": "stdout",
     "output_type": "stream",
     "text": [
      "True\n",
      "False\n"
     ]
    }
   ],
   "source": [
    "print(\"Dato 0\" in List)\n",
    "print(\"dato 0\" in List)"
   ]
  },
  {
   "cell_type": "code",
   "execution_count": 289,
   "metadata": {},
   "outputs": [
    {
     "name": "stdout",
     "output_type": "stream",
     "text": [
      "8\n"
     ]
    }
   ],
   "source": [
    "print(len(List))"
   ]
  }
 ],
 "metadata": {
  "kernelspec": {
   "display_name": "Python 3",
   "language": "python",
   "name": "python3"
  },
  "language_info": {
   "codemirror_mode": {
    "name": "ipython",
    "version": 3
   },
   "file_extension": ".py",
   "mimetype": "text/x-python",
   "name": "python",
   "nbconvert_exporter": "python",
   "pygments_lexer": "ipython3",
   "version": "3.10.11"
  },
  "orig_nbformat": 4
 },
 "nbformat": 4,
 "nbformat_minor": 2
}
