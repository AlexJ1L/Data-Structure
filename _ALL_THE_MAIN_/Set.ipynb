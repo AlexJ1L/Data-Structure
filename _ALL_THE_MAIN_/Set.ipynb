{
 "cells": [
  {
   "cell_type": "code",
   "execution_count": 562,
   "metadata": {},
   "outputs": [
    {
     "name": "stdout",
     "output_type": "stream",
     "text": [
      "{3, 4, 5, 'Dato 0', 'Dato 2', 'Dato 1'}\n"
     ]
    }
   ],
   "source": [
    "Set = {\"Dato 0\", \"Dato 1\", \"Dato 2\", 3, 4, 5}\n",
    "print(Set)"
   ]
  },
  {
   "cell_type": "code",
   "execution_count": 563,
   "metadata": {},
   "outputs": [
    {
     "name": "stdout",
     "output_type": "stream",
     "text": [
      "<class 'str'>\n",
      "<class 'dict'>\n"
     ]
    }
   ],
   "source": [
    "Sedt1= \"set()\" #Type: Set\n",
    "Set2= {}\n",
    "print(type(Sedt1))\n",
    "print(type(Set2))"
   ]
  },
  {
   "cell_type": "code",
   "execution_count": 564,
   "metadata": {},
   "outputs": [
    {
     "name": "stdout",
     "output_type": "stream",
     "text": [
      "{3, 4, 5, 'Dato 0', 'Dato 2', 'Dato 6', 'Dato 1'}\n"
     ]
    }
   ],
   "source": [
    "Set.add(\"Dato 6\")\n",
    "print(Set)"
   ]
  },
  {
   "cell_type": "code",
   "execution_count": 565,
   "metadata": {},
   "outputs": [
    {
     "name": "stdout",
     "output_type": "stream",
     "text": [
      "{'Dato 7', 3, 4, 5, 'Dato 6', 'Dato 2', 'Dato 1', 'Dato 0'}\n"
     ]
    }
   ],
   "source": [
    "set1= {\"Dato 7\"}\n",
    "set1.update(Set)\n",
    "print(set1)"
   ]
  },
  {
   "cell_type": "code",
   "execution_count": 566,
   "metadata": {},
   "outputs": [
    {
     "name": "stdout",
     "output_type": "stream",
     "text": [
      "{3, 4, 5, 'Dato 0', 'Dato 2', 'Dato 1'}\n"
     ]
    }
   ],
   "source": [
    "removeValue=Set.discard(\"Dato 6\")\n",
    "print(Set)"
   ]
  },
  {
   "cell_type": "code",
   "execution_count": 567,
   "metadata": {},
   "outputs": [
    {
     "name": "stdout",
     "output_type": "stream",
     "text": [
      "3\n",
      "4\n",
      "5\n",
      "Dato 0\n",
      "Dato 2\n",
      "Dato 1\n"
     ]
    }
   ],
   "source": [
    "for u in Set:\n",
    "    print(u)"
   ]
  },
  {
   "cell_type": "code",
   "execution_count": 568,
   "metadata": {},
   "outputs": [
    {
     "name": "stdout",
     "output_type": "stream",
     "text": [
      "6\n"
     ]
    }
   ],
   "source": [
    "print(len(Set))"
   ]
  },
  {
   "attachments": {},
   "cell_type": "markdown",
   "metadata": {},
   "source": [
    "# SET OPERATIONS"
   ]
  },
  {
   "cell_type": "code",
   "execution_count": 569,
   "metadata": {},
   "outputs": [
    {
     "name": "stdout",
     "output_type": "stream",
     "text": [
      "{225, 261, 402, 20, 948, 251}\n"
     ]
    }
   ],
   "source": [
    "A = {20,402,251,261}\n",
    "B = {20,948,225,251}\n",
    "print(A|B)\n",
    "#Opcion 2: print(A.union(B))"
   ]
  },
  {
   "cell_type": "code",
   "execution_count": 570,
   "metadata": {},
   "outputs": [
    {
     "name": "stdout",
     "output_type": "stream",
     "text": [
      "{251, 20}\n"
     ]
    }
   ],
   "source": [
    "print(A&B)\n",
    "#Opcion 2: print(A.intersection(B))"
   ]
  },
  {
   "cell_type": "code",
   "execution_count": 571,
   "metadata": {},
   "outputs": [
    {
     "name": "stdout",
     "output_type": "stream",
     "text": [
      "{402, 261}\n"
     ]
    }
   ],
   "source": [
    "print(A-B)\n",
    "#Opcion 2: print(A.difference(B))"
   ]
  },
  {
   "cell_type": "code",
   "execution_count": 572,
   "metadata": {},
   "outputs": [
    {
     "name": "stdout",
     "output_type": "stream",
     "text": [
      "{225, 261, 402, 948}\n"
     ]
    }
   ],
   "source": [
    "print(A^B)\n",
    "#Opcion 2: print(A.symmetric_difference(B))"
   ]
  },
  {
   "cell_type": "code",
   "execution_count": 573,
   "metadata": {},
   "outputs": [
    {
     "name": "stdout",
     "output_type": "stream",
     "text": [
      "Set C and Set D are equal\n"
     ]
    }
   ],
   "source": [
    "C = {1, 3, 5}\n",
    "D = {3, 5, 1}\n",
    "\n",
    "if C == D:\n",
    "    print('Set C and Set D are equal')\n",
    "else:\n",
    "    print('Set C and Set D are not equal')"
   ]
  },
  {
   "attachments": {},
   "cell_type": "markdown",
   "metadata": {},
   "source": [
    "# Methods in Set. "
   ]
  },
  {
   "attachments": {},
   "cell_type": "markdown",
   "metadata": {},
   "source": [
    "# Frozenset()"
   ]
  },
  {
   "cell_type": "code",
   "execution_count": 574,
   "metadata": {},
   "outputs": [
    {
     "name": "stdout",
     "output_type": "stream",
     "text": [
      "The frozen set is: frozenset({'o', 'u', 'e', 'a', 'i'})\n",
      "The empty frozen set is: frozenset()\n"
     ]
    },
    {
     "ename": "AttributeError",
     "evalue": "'frozenset' object has no attribute 'add'",
     "output_type": "error",
     "traceback": [
      "\u001b[1;31m---------------------------------------------------------------------------\u001b[0m",
      "\u001b[1;31mAttributeError\u001b[0m                            Traceback (most recent call last)",
      "Cell \u001b[1;32mIn[574], line 8\u001b[0m\n\u001b[0;32m      5\u001b[0m \u001b[39mprint\u001b[39m(\u001b[39m'\u001b[39m\u001b[39mThe empty frozen set is:\u001b[39m\u001b[39m'\u001b[39m, \u001b[39mfrozenset\u001b[39m())\n\u001b[0;32m      7\u001b[0m \u001b[39m# frozensets are immutable\u001b[39;00m\n\u001b[1;32m----> 8\u001b[0m fSet\u001b[39m.\u001b[39;49madd(\u001b[39m'\u001b[39m\u001b[39mv\u001b[39m\u001b[39m'\u001b[39m)\n",
      "\u001b[1;31mAttributeError\u001b[0m: 'frozenset' object has no attribute 'add'"
     ]
    }
   ],
   "source": [
    "vowels = ('a', 'e', 'i', 'o', 'u')\n",
    "\n",
    "fSet = frozenset(vowels)\n",
    "print('The frozen set is:', fSet)\n",
    "print('The empty frozen set is:', frozenset())\n",
    "\n",
    "# frozensets are immutfSet.add('v')"
   ]
  }
 ],
 "metadata": {
  "kernelspec": {
   "display_name": "Python 3",
   "language": "python",
   "name": "python3"
  },
  "language_info": {
   "codemirror_mode": {
    "name": "ipython",
    "version": 3
   },
   "file_extension": ".py",
   "mimetype": "text/x-python",
   "name": "python",
   "nbconvert_exporter": "python",
   "pygments_lexer": "ipython3",
   "version": "3.10.10"
  },
  "orig_nbformat": 4
 },
 "nbformat": 4,
 "nbformat_minor": 2
}
