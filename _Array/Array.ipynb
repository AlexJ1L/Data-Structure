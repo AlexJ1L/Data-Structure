{
 "cells": [
  {
   "cell_type": "code",
   "execution_count": 22,
   "metadata": {},
   "outputs": [
    {
     "name": "stdout",
     "output_type": "stream",
     "text": [
      "array('d', [1.1, 3.5, 4.5])\n"
     ]
    }
   ],
   "source": [
    "import array as arr\n",
    "\n",
    "a = arr.array('d', [1.1, 3.5, 4.5])\n",
    "print(a)"
   ]
  },
  {
   "cell_type": "code",
   "execution_count": 28,
   "metadata": {},
   "outputs": [
    {
     "name": "stdout",
     "output_type": "stream",
     "text": [
      "First element: 2\n",
      "Second element: 4\n",
      "Last element: 8\n"
     ]
    }
   ],
   "source": [
    "\"\"\"Accesing Python Array Elements\"\"\"\n",
    "import array as arr\n",
    "\n",
    "aA = arr.array('i', [2, 4, 6, 8])\n",
    "\n",
    "print(\"First element:\", a[0])\n",
    "print(\"Second element:\", a[1])\n",
    "print(\"Last element:\", a[-1])"
   ]
  },
  {
   "cell_type": "code",
   "execution_count": 29,
   "metadata": {},
   "outputs": [
    {
     "name": "stdout",
     "output_type": "stream",
     "text": [
      "array('i', [62, 5, 42])\n",
      "array('i', [2, 5, 62])\n",
      "array('i', [52, 48, 5])\n",
      "array('i', [2, 5, 62, 5, 42, 52, 48, 5])\n"
     ]
    }
   ],
   "source": [
    "\"\"\"Slicing\"\"\"\n",
    "import array as arr\n",
    "\n",
    "numbers_list = [2, 5, 62, 5, 42, 52, 48, 5]\n",
    "numbers_array = arr.array('i', numbers_list)\n",
    "\n",
    "print(numbers_array[2:5]) # 3rd to 5th\n",
    "print(numbers_array[:-5]) # beginning to 4th\n",
    "print(numbers_array[5:])  # 6th to end\n",
    "print(numbers_array[:])   # beginning to end"
   ]
  },
  {
   "cell_type": "code",
   "execution_count": 33,
   "metadata": {},
   "outputs": [
    {
     "name": "stdout",
     "output_type": "stream",
     "text": [
      "array('i', [0, 2, 3, 5, 7, 10])\n",
      "array('i', [0, 2, 4, 6, 8, 10])\n"
     ]
    }
   ],
   "source": [
    "\"\"\"Changing Elements\"\"\"\n",
    "import array as arr\n",
    "\n",
    "numbersC = arr.array('i', [1, 2, 3, 5, 7, 10])\n",
    "\n",
    "# changing first element\n",
    "numbersC[0] = 0    \n",
    "print(numbersC)     # Output: array('i', [0, 2, 3, 5, 7, 10])\n",
    "\n",
    "# changing 3rd to 5th element\n",
    "numbersC[2:5] = arr.array('i', [4, 6, 8])   \n",
    "print(numbersC)     # Output: array('i', [0, 2, 4, 6, 8, 10])"
   ]
  },
  {
   "cell_type": "code",
   "execution_count": 35,
   "metadata": {},
   "outputs": [
    {
     "name": "stdout",
     "output_type": "stream",
     "text": [
      "array('i', [1, 2, 3, 4])\n",
      "array('i', [1, 2, 3, 4, 5, 6, 7])\n"
     ]
    }
   ],
   "source": [
    "\"\"\"Adding Elements\"\"\"\n",
    "import array as arr\n",
    "\n",
    "numbers = arr.array('i', [1, 2, 3])\n",
    "# Form first\n",
    "numbers.append(4)\n",
    "print(numbers)     # Output: array('i', [1, 2, 3, 4])\n",
    "\n",
    "# Form two\n",
    "# extend() appends iterable to the end of the array\n",
    "numbers.extend([5, 6, 7])\n",
    "print(numbers)     # Output: array('i', [1, 2, 3, 4, 5, 6, 7])"
   ]
  },
  {
   "cell_type": "code",
   "execution_count": 40,
   "metadata": {},
   "outputs": [
    {
     "name": "stdout",
     "output_type": "stream",
     "text": [
      "array('i', [1, 3, 5, 2, 4, 6])\n"
     ]
    }
   ],
   "source": [
    "\"\"\"Concatenated Two Array\"\"\"\n",
    "import array as arr\n",
    "\n",
    "odd = arr.array('i', [1, 3, 5])\n",
    "even = arr.array('i', [2, 4, 6])\n",
    "\n",
    "numbersT = arr.array('i')   # creating empty array of integer\n",
    "numbersT = odd + even\n",
    "\n",
    "print(numbers)"
   ]
  },
  {
   "cell_type": "code",
   "execution_count": 39,
   "metadata": {},
   "outputs": [
    {
     "name": "stdout",
     "output_type": "stream",
     "text": [
      "array('i', [1, 2, 3, 4])\n"
     ]
    }
   ],
   "source": [
    "\"\"\"Removing Elements\"\"\"\n",
    "import array as arr\n",
    "\n",
    "number1 = arr.array('i', [1, 2, 3, 3, 4])\n",
    "\n",
    "del number1[2]  # removing third element\n",
    "print(number1)  # Output: array('i', [1, 2, 3, 4])\n",
    "\n",
    "#del number1  # deleting entire array\n",
    "#print(number1)  # Error: array is not defined"
   ]
  },
  {
   "cell_type": "code",
   "execution_count": 45,
   "metadata": {},
   "outputs": [
    {
     "name": "stdout",
     "output_type": "stream",
     "text": [
      "array('i', [10, 11, 19, 13])\n",
      "Pooped: \n",
      "19\n",
      "array('i', [10, 11, 13])\n"
     ]
    }
   ],
   "source": [
    "\"\"\"Using Remove() and Pop()\"\"\"\n",
    "import array as arr\n",
    "\n",
    "numbers = arr.array('i', [10, 11, 19, 12, 13])\n",
    "\n",
    "numbers.remove(12)\n",
    "print(numbers)   # Output: array('i', [10, 11, 12, 13])\n",
    "print(\"Pooped: \")\n",
    "print(numbers.pop(2))   # Output: 19\n",
    "print(numbers)   # Output: array('i', [10, 11, 13])"
   ]
  },
  {
   "attachments": {},
   "cell_type": "markdown",
   "metadata": {},
   "source": [
    "# Part two"
   ]
  },
  {
   "cell_type": "code",
   "execution_count": 27,
   "metadata": {},
   "outputs": [
    {
     "name": "stdout",
     "output_type": "stream",
     "text": [
      "array('i', [112])\n"
     ]
    }
   ],
   "source": [
    "import array as arr\n",
    "a = arr.array('i', [112])\n",
    "print(a)"
   ]
  },
  {
   "cell_type": "code",
   "execution_count": 73,
   "metadata": {},
   "outputs": [
    {
     "name": "stdout",
     "output_type": "stream",
     "text": [
      "Su primer numero es: 1.0\n",
      "Su segundo numero es: 2.0\n"
     ]
    }
   ],
   "source": [
    "import array as arr\n",
    "\n",
    "a = arr.array('d', [0, 1, 2, 3, 4, 5, 6, 7, 8, 9])\n",
    "print(\"Su primer numero es:\" ,a[1])\n",
    "print(\"Su segundo numero es:\" ,a[2])"
   ]
  },
  {
   "cell_type": "code",
   "execution_count": 75,
   "metadata": {},
   "outputs": [
    {
     "name": "stdout",
     "output_type": "stream",
     "text": [
      "Su numero es: 0.0\n",
      "Su numero es: 1.0\n",
      "Su numero es: 2.0\n",
      "Su numero es: 3.0\n",
      "Su numero es: 4.0\n",
      "Su numero es: 5.0\n",
      "Su numero es: 6.0\n",
      "Su numero es: 7.0\n",
      "Su numero es: 8.0\n",
      "Su numero es: 9.0\n"
     ]
    }
   ],
   "source": [
    "\"\"\"Using loop\"\"\"\n",
    "import array as arr\n",
    "\n",
    "# traverse with array\n",
    "a3 = arr.array(\"d\", [0, 1, 2, 3, 4, 5, 6, 7, 8, 9])\n",
    "for i in a3:\n",
    "    print(\"Su numero es:\" ,i)"
   ]
  },
  {
   "cell_type": "code",
   "execution_count": 20,
   "metadata": {},
   "outputs": [
    {
     "name": "stdout",
     "output_type": "stream",
     "text": [
      "Se agrego el #10: 0 1 2 3 4 5 6 7 8 90 10 \n",
      "El indice #10 es: 10\n"
     ]
    }
   ],
   "source": [
    "import array as arr\n",
    "\n",
    "# changing or adding elements in array\n",
    "a2 = arr.array('d', [0, 1, 2, 3, 4, 5, 6, 7, 8, 9])\n",
    "a2.extend([10])\n",
    "a2[9] = 90\n",
    "\n",
    "print(\"Se agrego el #10:\",end=\" \")\n",
    "for a in range(0,11):\n",
    "    print(int(a2[a]), end=\" \")\n",
    "print()\n",
    "\n",
    "print(\"El indice #10 es:\" ,a2.index(10))"
   ]
  },
  {
   "cell_type": "code",
   "execution_count": 21,
   "metadata": {},
   "outputs": [
    {
     "name": "stdout",
     "output_type": "stream",
     "text": [
      "Su primer numero es: 8\n",
      "Su segundo numero es: 2\n"
     ]
    }
   ],
   "source": [
    "import array as arr\n",
    "\n",
    "a1 = arr.array('d', [0, 1, 2, 3, 4, 5, 6, 7, 8, 9])\n",
    "print(\"Su primer numero es:\" ,a1.itemsize)\n",
    "I= a1[2]\n",
    "print(\"Su segundo numero es:\" ,int(I))"
   ]
  }
 ],
 "metadata": {
  "kernelspec": {
   "display_name": "Python 3",
   "language": "python",
   "name": "python3"
  },
  "language_info": {
   "codemirror_mode": {
    "name": "ipython",
    "version": 3
   },
   "file_extension": ".py",
   "mimetype": "text/x-python",
   "name": "python",
   "nbconvert_exporter": "python",
   "pygments_lexer": "ipython3",
   "version": "3.10.11"
  },
  "orig_nbformat": 4
 },
 "nbformat": 4,
 "nbformat_minor": 2
}
