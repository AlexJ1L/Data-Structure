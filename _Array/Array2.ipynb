{
 "cells": [
  {
   "cell_type": "code",
   "execution_count": 22,
   "metadata": {},
   "outputs": [
    {
     "name": "stdout",
     "output_type": "stream",
     "text": [
      "The new created array is :  1 2 3 4 \n",
      "___________________________________________\n",
      "The new created array is :  2.5 3.2 3.3 2.1 \n",
      "Hola\n"
     ]
    }
   ],
   "source": [
    "import array as arr\n",
    "# creating an array with integer type\n",
    "a = arr.array('i', [1, 2, 3, 4])\n",
    "\n",
    "# printing original array\n",
    "print (\"The new created array is : \", end =\" \")\n",
    "for i in range (0, 4):\n",
    "\tprint (a[i], end =\" \")\n",
    "print()\n",
    "\n",
    "print(\"___________________________________________\")\n",
    "# creating an array with double type\n",
    "b = arr.array('d', [2.5, 3.2, 3.3, 2.1])\n",
    "\n",
    "# printing original array\n",
    "print (\"The new created array is : \", end =\" \")\n",
    "for i in range (0, 4):\n",
    "\tprint (b[i], end =\" \")\n",
    "print()"
   ]
  }
 ],
 "metadata": {
  "kernelspec": {
   "display_name": "Python 3",
   "language": "python",
   "name": "python3"
  },
  "language_info": {
   "codemirror_mode": {
    "name": "ipython",
    "version": 3
   },
   "file_extension": ".py",
   "mimetype": "text/x-python",
   "name": "python",
   "nbconvert_exporter": "python",
   "pygments_lexer": "ipython3",
   "version": "3.10.11"
  },
  "orig_nbformat": 4
 },
 "nbformat": 4,
 "nbformat_minor": 2
}
