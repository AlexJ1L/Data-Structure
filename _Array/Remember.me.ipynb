{
 "cells": [
  {
   "cell_type": "code",
   "execution_count": 18,
   "metadata": {},
   "outputs": [
    {
     "name": "stdout",
     "output_type": "stream",
     "text": [
      "20_40_60_\n",
      "20\n",
      "40\n",
      "60\n",
      "80\n"
     ]
    }
   ],
   "source": [
    "import array as arr\n",
    "A = arr.array(\"i\", [20,40,60,80])\n",
    "for i in range(0,3):\n",
    "    print(A[i], end=\"_\")\n",
    "print()\n",
    "\n",
    "for I in A:\n",
    "    print(I)"
   ]
  },
  {
   "cell_type": "code",
   "execution_count": 109,
   "metadata": {},
   "outputs": [
    {
     "name": "stdout",
     "output_type": "stream",
     "text": [
      "array('i', [0, 1, 2, 3, 4, 5, 6, 7])\n",
      "0 1 2 3 4 5 6 7  \n",
      "array('i', [0, 1, 2, 3, 4, 5, 6, 7])\n",
      " \n",
      "Accessing: 1\n",
      "Slicing: array('i', [1, 2, 3, 4, 5])\n",
      "With del: array('i', [0, 1, 4, 5, 6, 7])\n"
     ]
    }
   ],
   "source": [
    "import array as arr\n",
    "#1\n",
    "Arr =arr.array(\"i\",[0,1,2,3,4,5,6,7])\n",
    "print(Arr)\n",
    "for i in range(0,8):\n",
    "    print(Arr[i],end=\" \")\n",
    "print(\" \")\n",
    "\n",
    "R= Arr[0:8]\n",
    "print(R)\n",
    "\n",
    "print(\" \")\n",
    "print(\"Accessing:\",Arr[1])\n",
    "print(\"Slicing:\",Arr[1:6])\n",
    "\n",
    "del Arr[2:4]\n",
    "print(f\"With del: {Arr}\")"
   ]
  },
  {
   "attachments": {},
   "cell_type": "markdown",
   "metadata": {},
   "source": [
    "# Matrix in Python"
   ]
  },
  {
   "cell_type": "code",
   "execution_count": 35,
   "metadata": {},
   "outputs": [
    {
     "name": "stdout",
     "output_type": "stream",
     "text": [
      "[[1, 4, 5, 12], [-5, 8, 9, 0], [-6, 7, 11, 19]]\n",
      "_\n",
      "[1, 4, 5, 12]\n",
      "5\n",
      "_\n",
      "[4, 8, 7]\n",
      "<class 'list'>\n"
     ]
    }
   ],
   "source": [
    "J = [\n",
    "    [1, 4, 5, 12],\n",
    "    [-5, 8, 9, 0],\n",
    "    [-6, 7, 11, 19]\n",
    "    ]\n",
    "\n",
    "print(J)\n",
    "print(\"_\")\n",
    "\n",
    "print(J[0])\n",
    "print(J[0][2])\n",
    "print(\"_\")\n",
    "\n",
    "column = [];\n",
    "for row in J:\n",
    "    column.append(row[1])\n",
    "\n",
    "print(column)"
   ]
  },
  {
   "cell_type": "code",
   "execution_count": 31,
   "metadata": {},
   "outputs": [
    {
     "name": "stdout",
     "output_type": "stream",
     "text": [
      "[1 2 3]\n",
      "<class 'numpy.ndarray'>\n"
     ]
    }
   ],
   "source": [
    "import numpy as np\n",
    "a = np.array([1, 2, 3])\n",
    "print(a)\n",
    "print(type(a))"
   ]
  }
 ],
 "metadata": {
  "kernelspec": {
   "display_name": "Python 3",
   "language": "python",
   "name": "python3"
  },
  "language_info": {
   "codemirror_mode": {
    "name": "ipython",
    "version": 3
   },
   "file_extension": ".py",
   "mimetype": "text/x-python",
   "name": "python",
   "nbconvert_exporter": "python",
   "pygments_lexer": "ipython3",
   "version": "3.10.11"
  },
  "orig_nbformat": 4
 },
 "nbformat": 4,
 "nbformat_minor": 2
}
