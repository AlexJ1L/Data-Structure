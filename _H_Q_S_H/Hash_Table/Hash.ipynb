{
 "cells": [
  {
   "cell_type": "code",
   "execution_count": 2,
   "metadata": {},
   "outputs": [],
   "source": [
    "# Python program to demonstrate working of HashTable \n",
    "\n",
    "hashTable = [[],] * 10\n",
    "\n",
    "def checkPrime(n):\n",
    "        if n == 1 or n == 0:\n",
    "                return 0\n",
    "\n",
    "        for i in range(2, n//2):\n",
    "                if n % i == 0:\n",
    "                        return 0\n",
    "\n",
    "        return 1\n",
    "\n",
    "def getPrime(n):\n",
    "        if n % 2 == 0:\n",
    "                n = n + 1\n",
    "\n",
    "        while not checkPrime(n):\n",
    "                n += 2\n",
    "\n",
    "        return n\n",
    "\n",
    "def hashFunction(key):\n",
    "        capacity = getPrime(10)\n",
    "        return key % capacity\n",
    "\n",
    "def insertData(key, data):\n",
    "        index = hashFunction(key)\n",
    "        hashTable[index] = [key, data]\n",
    "\n",
    "def removeData(key):\n",
    "        index = hashFunction(key)\n",
    "        hashTable[index] = 0\n"
   ]
  },
  {
   "cell_type": "code",
   "execution_count": 3,
   "metadata": {},
   "outputs": [
    {
     "name": "stdout",
     "output_type": "stream",
     "text": [
      "[[], [], [123, 'apple'], [432, 'mango'], [213, 'banana'], [654, 'guava'], [], [], [], []]\n",
      "[[], [], 0, [432, 'mango'], [213, 'banana'], [654, 'guava'], [], [], [], []]\n"
     ]
    },
    {
     "data": {
      "text/plain": [
       "127"
      ]
     },
     "execution_count": 3,
     "metadata": {},
     "output_type": "execute_result"
    }
   ],
   "source": [
    "#Revertir la keys por el values\n",
    "insertData(123,\"apple\")\n",
    "insertData(432, \"mango\")\n",
    "insertData(213, \"banana\")\n",
    "insertData(654, \"guava\")\n",
    "\n",
    "print(hashTable)\n",
    "removeData(123)\n",
    "\n",
    "print(hashTable)\n",
    "getPrime(123)"
   ]
  },
  {
   "cell_type": "code",
   "execution_count": 10,
   "metadata": {},
   "outputs": [],
   "source": [
    "class HashTable:\n",
    "\n",
    "    # Create empty bucket list of given size\n",
    "    def __init__(self, size):\n",
    "        self.size = size\n",
    "        self.hash_table = self.create_buckets()\n",
    "\n",
    "    def create_buckets(self):\n",
    "        return [[] for _ in range(self.size)]\n",
    "\n",
    "    # Insert values into hash map\n",
    "    def set_val(self, key, val):\n",
    "    \n",
    "        # Get the index from the key\n",
    "        # using hash function\n",
    "        hashed_key = hash(key) % self.size\n",
    "        \n",
    "        # Get the bucket corresponding to index\n",
    "        bucket = self.hash_table[hashed_key]\n",
    "\n",
    "        found_key = False\n",
    "        for index, record in enumerate(bucket):\n",
    "            record_key, record_val = record\n",
    "            \n",
    "            # check if the bucket has same key as\n",
    "            # the key to be inserted\n",
    "            if record_key == key:\n",
    "                found_key = True\n",
    "                break\n",
    "\n",
    "        # If the bucket has same key as the key to be inserted,\n",
    "        # Update the key value\n",
    "        # Otherwise append the new key-value pair to the bucket\n",
    "        if found_key:\n",
    "            bucket[index] = (key, val)\n",
    "        else:\n",
    "            bucket.append((key, val))\n",
    "\n",
    "    # Return searched value with specific key\n",
    "    def get_val(self, key):\n",
    "    \n",
    "        # Get the index from the key using\n",
    "        # hash function\n",
    "        hashed_key = hash(key) % self.size\n",
    "        \n",
    "        # Get the bucket corresponding to index\n",
    "        bucket = self.hash_table[hashed_key]\n",
    "\n",
    "        found_key = False\n",
    "        for index, record in enumerate(bucket):\n",
    "            record_key, record_val = record\n",
    "            \n",
    "            # check if the bucket has same key as\n",
    "            # the key being searched\n",
    "            if record_key == key:\n",
    "                found_key = True\n",
    "                break\n",
    "\n",
    "        # If the bucket has same key as the key being searched,\n",
    "        # Return the value found\n",
    "        # Otherwise indicate there was no record found\n",
    "        if found_key:\n",
    "            return record_val\n",
    "        else:\n",
    "            return \"No record found\"\n",
    "\n",
    "    # Remove a value with specific key\n",
    "    def delete_val(self, key):\n",
    "    \n",
    "        # Get the index from the key using\n",
    "        # hash function\n",
    "        hashed_key = hash(key) % self.size\n",
    "        \n",
    "        # Get the bucket corresponding to index\n",
    "        bucket = self.hash_table[hashed_key]\n",
    "\n",
    "        found_key = False\n",
    "        for index, record in enumerate(bucket):\n",
    "            record_key, record_val = record\n",
    "            \n",
    "            # check if the bucket has same key as\n",
    "            # the key to be deleted\n",
    "            if record_key == key:\n",
    "                found_key = True\n",
    "                break\n",
    "        if found_key:\n",
    "            bucket.pop(index)\n",
    "        return\n",
    "\n",
    "    # To print the items of hash map\n",
    "    def __str__(self):\n",
    "        return \"\".join(str(item) for item in self.hash_table)"
   ]
  },
  {
   "cell_type": "code",
   "execution_count": 11,
   "metadata": {},
   "outputs": [
    {
     "name": "stdout",
     "output_type": "stream",
     "text": [
      "[][][][][('Keys', 'Esto funciona?')][][][][][]\n"
     ]
    },
    {
     "data": {
      "text/plain": [
       "'Esto funciona?'"
      ]
     },
     "execution_count": 11,
     "metadata": {},
     "output_type": "execute_result"
    }
   ],
   "source": [
    "Hola = HashTable(10)\n",
    "\n",
    "Hola.set_val(\"Keys\",\"Esto funciona?\")\n",
    "print(Hola)\n",
    "Hola.get_val(\"Keys\")"
   ]
  },
  {
   "cell_type": "code",
   "execution_count": 6,
   "metadata": {},
   "outputs": [
    {
     "name": "stdout",
     "output_type": "stream",
     "text": [
      "[][][][][][][][][][][][][][][][][][][][][][][][][][][][][][][][][][][][][][][][][][][][][][][('gfg@example.com', 'some value')][][][]\n",
      "\n",
      "[][][][][][][][][][][][('portal@example.com', 'some other value')][][][][][][][][][][][][][][][][][][][][][][][][][][][][][][][][][][][('gfg@example.com', 'some value')][][][]\n",
      "\n",
      "some other value\n",
      "\n",
      "[][][][][][][][][][][][][][][][][][][][][][][][][][][][][][][][][][][][][][][][][][][][][][][('gfg@example.com', 'some value')][][][]\n"
     ]
    }
   ],
   "source": [
    "hash_table = HashTable(50)\n",
    "\n",
    "# insert some values\n",
    "hash_table.set_val('gfg@example.com', 'some value')\n",
    "print(hash_table)\n",
    "print()\n",
    "\n",
    "hash_table.set_val('portal@example.com', 'some other value')\n",
    "print(hash_table)\n",
    "print()\n",
    "\n",
    "# search/access a record with key\n",
    "print(hash_table.get_val('portal@example.com'))\n",
    "print()\n",
    "\n",
    "# delete or remove a value\n",
    "hash_table.delete_val('portal@example.com')\n",
    "print(hash_table)"
   ]
  },
  {
   "cell_type": "code",
   "execution_count": 7,
   "metadata": {},
   "outputs": [
    {
     "name": "stdout",
     "output_type": "stream",
     "text": [
      "List1: [2, 3, 5]\n",
      "List2: [4, 6, 8]\n"
     ]
    }
   ],
   "source": [
    "prime_numbers = [2, 3, 5]\n",
    "print(\"List1:\", prime_numbers)\n",
    "\n",
    "even_numbers = [4, 6, 8]\n",
    "print(\"List2:\", even_numbers)\n",
    "\n",
    "# join two lists\n",
    "even_numbers.extend(prime_numbers)\n",
    "\n",
    "# print(\"List after append:\", even_numbers) "
   ]
  },
  {
   "attachments": {},
   "cell_type": "markdown",
   "metadata": {},
   "source": [
    "# Hash-Table"
   ]
  },
  {
   "cell_type": "code",
   "execution_count": 8,
   "metadata": {},
   "outputs": [
    {
     "name": "stdout",
     "output_type": "stream",
     "text": [
      "<__main__.HashTable object at 0x000002C382FA7640>\n"
     ]
    }
   ],
   "source": [
    "class HashTable:\n",
    "    def __init__(self):\n",
    "        self.__capacity = 4 # total number of data that can be stored\n",
    "        self.__keys   = [None] * self.__capacity\n",
    "        self.__values = [None] * self.__capacity\n",
    "        self.__track  = 0 # to maintain how many buckets(array slots) are filled\n",
    "\n",
    "    def __hash_function(self, key):\n",
    "        # return an index values\n",
    "        # the value is calculated with the help of ASCII values\n",
    "        hash_sum = 0\n",
    "        for char in key:\n",
    "            hash_sum += ord(char) # ord() returns the ASCII value\n",
    "\n",
    "        return hash_sum % self.__capacity # to avoid index out of bound error\n",
    "    \n",
    "    def insert(self, key, value):\n",
    "        if self.__track == self.__capacity:\n",
    "            print(\"ARRAY FULL!\")\n",
    "            return\n",
    "        index = self.__hash_function(key)\n",
    "        while self .__keys[index]: #while key[is not a None\n",
    "            if self.__keys[index] == key:\n",
    "                self.__values[index] = value\n",
    "\n",
    "                index = (index + 1) % self.__capacity # to avoid index out of bound error\n",
    "\n",
    "            self.__keys[index] = key\n",
    "            self.__values[index] = value\n",
    "            self.__track += 1\n",
    "\n",
    "        # we want to print out all the entries in our sequence\n",
    "        # we are using dunders (double underscores)\n",
    "        def __str__(self):\n",
    "            out = \"\"\n",
    "            for item in self.__keys:\n",
    "                if item: # if item is not a None\n",
    "                    out += f\"{item}: {self.__values[self.__keys.index(item)]}\\n\"\n",
    "            \n",
    "            return out.strip(\"\\n\")\n",
    "        \n",
    "if __name__ == \"__main__\":\n",
    "    myTables = HashTable()\n",
    "\n",
    "    myTables.insert(\"Samaksh\", 24)\n",
    "    myTables.insert(\"Anand\", 25)\n",
    "    myTables.insert(\"Aditya\", 26)\n",
    "    myTables.insert(\"Abhishek\", 23)\n",
    "\n",
    "print(myTables)\n"
   ]
  }
 ],
 "metadata": {
  "kernelspec": {
   "display_name": "Python 3",
   "language": "python",
   "name": "python3"
  },
  "language_info": {
   "codemirror_mode": {
    "name": "ipython",
    "version": 3
   },
   "file_extension": ".py",
   "mimetype": "text/x-python",
   "name": "python",
   "nbconvert_exporter": "python",
   "pygments_lexer": "ipython3",
   "version": "3.10.11"
  },
  "orig_nbformat": 4
 },
 "nbformat": 4,
 "nbformat_minor": 2
}
