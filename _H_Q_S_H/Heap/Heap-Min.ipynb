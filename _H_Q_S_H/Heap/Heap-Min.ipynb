{
 "cells": [
  {
   "cell_type": "code",
   "execution_count": 6,
   "metadata": {},
   "outputs": [
    {
     "name": "stdout",
     "output_type": "stream",
     "text": [
      "1\n",
      "4\n"
     ]
    }
   ],
   "source": [
    "import heapq\n",
    "\n",
    "heap = []\n",
    "heapq.heappush(heap, 3)\n",
    "heapq.heappush(heap, 1)\n",
    "heapq.heappush(heap, 4)\n",
    "\n",
    "menor_valor = heap[0]\n",
    "mayor_valor = heap[2]\n",
    "menor_valor = heapq.heappop(heap)\n",
    "print(menor_valor)\n",
    "print(mayor_valor)"
   ]
  },
  {
   "cell_type": "code",
   "execution_count": 7,
   "metadata": {},
   "outputs": [
    {
     "name": "stdout",
     "output_type": "stream",
     "text": [
      "0\n",
      "[1, 4, 9]\n"
     ]
    }
   ],
   "source": [
    "import heapq\n",
    "heap = []\n",
    "heapq.heapify(heap)\n",
    "\n",
    "heapq.heappush(heap, 1)\n",
    "heapq.heappush(heap, 0)\n",
    "\n",
    "heapq.heappush(heap, 9)\n",
    "heapq.heappush(heap, 4)\n",
    "\n",
    "mayor_prioridad = heapq.heappop(heap)\n",
    "print(mayor_prioridad)\n",
    "print(heap)\n"
   ]
  }
 ],
 "metadata": {
  "kernelspec": {
   "display_name": "Python 3",
   "language": "python",
   "name": "python3"
  },
  "language_info": {
   "codemirror_mode": {
    "name": "ipython",
    "version": 3
   },
   "file_extension": ".py",
   "mimetype": "text/x-python",
   "name": "python",
   "nbconvert_exporter": "python",
   "pygments_lexer": "ipython3",
   "version": "3.10.11"
  },
  "orig_nbformat": 4
 },
 "nbformat": 4,
 "nbformat_minor": 2
}
