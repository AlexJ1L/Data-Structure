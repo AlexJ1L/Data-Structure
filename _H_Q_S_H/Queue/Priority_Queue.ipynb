{
 "cells": [
  {
   "cell_type": "code",
   "execution_count": 1,
   "metadata": {},
   "outputs": [],
   "source": [
    "# Priority Queue implementation in Python\n",
    "\n",
    "\n",
    "# Function to heapify the tree\n",
    "def heapify(arr, n, i):\n",
    "    # Find the largest among root, left child and right child\n",
    "    largest = i\n",
    "    l = 2 * i + 1\n",
    "    r = 2 * i + 2\n",
    "\n",
    "    if l < n and arr[i] < arr[l]:\n",
    "        largest = l\n",
    "\n",
    "    if r < n and arr[largest] < arr[r]:\n",
    "        largest = r\n",
    "\n",
    "    # Swap and continue heapifying if root is not largest\n",
    "    if largest != i:\n",
    "        arr[i], arr[largest] = arr[largest], arr[i]\n",
    "        heapify(arr, n, largest)\n",
    "\n",
    "\n",
    "# Function to insert an element into the tree\n",
    "def insert(array, newNum):\n",
    "    size = len(array)\n",
    "    if size == 0:\n",
    "        array.append(newNum)\n",
    "    else:\n",
    "        array.append(newNum)\n",
    "        for i in range((size // 2) - 1, -1, -1):\n",
    "            heapify(array, size, i)\n",
    "\n",
    "\n",
    "# Function to delete an element from the tree\n",
    "def deleteNode(array, num):\n",
    "    size = len(array)\n",
    "    i = 0\n",
    "    for i in range(0, size):\n",
    "        if num == array[i]:\n",
    "            break\n",
    "\n",
    "    array[i], array[size - 1] = array[size - 1], array[i]\n",
    "\n",
    "    array.remove(size - 1)\n",
    "\n",
    "    for i in range((len(array) // 2) - 1, -1, -1):\n",
    "        heapify(array, len(array), i)"
   ]
  },
  {
   "cell_type": "code",
   "execution_count": 2,
   "metadata": {},
   "outputs": [
    {
     "name": "stdout",
     "output_type": "stream",
     "text": [
      "Max-Heap array: [9, 5, 4, 3, 2]\n",
      "After deleting an element: [9, 5, 2, 3]\n"
     ]
    }
   ],
   "source": [
    "arr = []\n",
    "\n",
    "insert(arr, 3)\n",
    "insert(arr, 4)\n",
    "insert(arr, 9)\n",
    "insert(arr, 5)\n",
    "insert(arr, 2)\n",
    "\n",
    "print (\"Max-Heap array: \" + str(arr))\n",
    "\n",
    "deleteNode(arr, 4)\n",
    "print(\"After deleting an element: \" + str(arr))"
   ]
  }
 ],
 "metadata": {
  "kernelspec": {
   "display_name": "Python 3",
   "language": "python",
   "name": "python3"
  },
  "language_info": {
   "codemirror_mode": {
    "name": "ipython",
    "version": 3
   },
   "file_extension": ".py",
   "mimetype": "text/x-python",
   "name": "python",
   "nbconvert_exporter": "python",
   "pygments_lexer": "ipython3",
   "version": "3.10.10"
  },
  "orig_nbformat": 4
 },
 "nbformat": 4,
 "nbformat_minor": 2
}
