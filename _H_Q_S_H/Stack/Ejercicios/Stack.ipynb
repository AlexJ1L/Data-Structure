{
 "cells": [
  {
   "cell_type": "code",
   "execution_count": 1,
   "metadata": {},
   "outputs": [],
   "source": [
    "def valid(exp):\n",
    "    stack = []\n",
    "    for char in exp:\n",
    "        if char in ['(', '{', '[']:\n",
    "            stack.append(char)\n",
    "        else:\n",
    "            if not stack:\n",
    "                return False\n",
    "            top = stack.pop()\n",
    "            if char == ')' and top != '(':\n",
    "                return False\n",
    "            elif char == '}' and top != '{':\n",
    "                return False\n",
    "            elif char == ']' and top != '[':\n",
    "                return False\n",
    "    return not stack"
   ]
  },
  {
   "cell_type": "code",
   "execution_count": 4,
   "metadata": {},
   "outputs": [
    {
     "name": "stdout",
     "output_type": "stream",
     "text": [
      "True\n",
      "<class 'str'>\n"
     ]
    }
   ],
   "source": [
    "Hola = \"\"\n",
    "print(valid(Hola))\n",
    "print(type(Hola))\n",
    "#x = False    #False   #True\n",
    "#print(not x) #=True   =#False"
   ]
  }
 ],
 "metadata": {
  "kernelspec": {
   "display_name": "Python 3",
   "language": "python",
   "name": "python3"
  },
  "language_info": {
   "codemirror_mode": {
    "name": "ipython",
    "version": 3
   },
   "file_extension": ".py",
   "mimetype": "text/x-python",
   "name": "python",
   "nbconvert_exporter": "python",
   "pygments_lexer": "ipython3",
   "version": "3.10.10"
  },
  "orig_nbformat": 4
 },
 "nbformat": 4,
 "nbformat_minor": 2
}
