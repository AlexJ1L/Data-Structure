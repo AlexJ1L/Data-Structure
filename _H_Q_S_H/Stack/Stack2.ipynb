{
 "cells": [
  {
   "cell_type": "code",
   "execution_count": 2,
   "metadata": {},
   "outputs": [],
   "source": [
    "class Stack:\n",
    "    def __init__(self):\n",
    "        self.Top = None\n",
    "        self.Stack = []\n",
    "    \n",
    "    def empty(self):\n",
    "        return len(self) == 0\n",
    "    \n",
    "    def push(self, Element): \n",
    "        self.Stack.append(Element)\n",
    "        return self.Top #da\n",
    "    \n",
    "    def pop(self):\n",
    "        self.Stack.pop()\n",
    "        self.top =self.Stack[-1]\n",
    "        return self.Top\n",
    "    \n",
    "    def __str__(self):\n",
    "        return str(self.Stack)\n",
    "    \n",
    "    def __len__(self):\n",
    "        return len(self.Stack)"
   ]
  },
  {
   "cell_type": "code",
   "execution_count": 7,
   "metadata": {},
   "outputs": [
    {
     "name": "stdout",
     "output_type": "stream",
     "text": [
      "False\n",
      "['Hola', 5811, 71]\n"
     ]
    }
   ],
   "source": [
    "hola = Stack()\n",
    "hola.push(\"Hola\")\n",
    "hola.push(5811)\n",
    "hola.push(71)\n",
    "hola.push(1)\n",
    "hola.pop()\n",
    "print(hola.empty())\n",
    "print(hola)"
   ]
  }
 ],
 "metadata": {
  "kernelspec": {
   "display_name": "Python 3",
   "language": "python",
   "name": "python3"
  },
  "language_info": {
   "codemirror_mode": {
    "name": "ipython",
    "version": 3
   },
   "file_extension": ".py",
   "mimetype": "text/x-python",
   "name": "python",
   "nbconvert_exporter": "python",
   "pygments_lexer": "ipython3",
   "version": "3.10.11"
  },
  "orig_nbformat": 4
 },
 "nbformat": 4,
 "nbformat_minor": 2
}
