{
 "cells": [
  {
   "attachments": {},
   "cell_type": "markdown",
   "metadata": {},
   "source": [
    "# Demonstrate Stack\n",
    "# Implementation:"
   ]
  },
  {
   "cell_type": "code",
   "execution_count": 6,
   "metadata": {},
   "outputs": [
    {
     "name": "stdout",
     "output_type": "stream",
     "text": [
      "Initial stack:\n",
      "deque(['a', 'b', 'c'])\n",
      "\n",
      "Elements popped from stack:\n",
      "c\n",
      "b\n",
      "a\n",
      "\n",
      "Stack after elements are popped:\n",
      "deque([])\n"
     ]
    }
   ],
   "source": [
    "# Using Collections.deque\n",
    "\n",
    "from collections import deque\n",
    "\n",
    "stack3 = deque()\n",
    "\n",
    "# append() function to push\n",
    "# element in the stack\n",
    "stack3.append('a')\n",
    "stack3.append('b')\n",
    "stack3.append('c')\n",
    "\n",
    "print('Initial stack:')\n",
    "print(stack3)\n",
    "\n",
    "# pop() function to pop\n",
    "print('\\nElements popped from stack:')\n",
    "print(stack3.pop())\n",
    "print(stack3.pop())\n",
    "print(stack3.pop())\n",
    "\n",
    "print('\\nStack after elements are popped:')\n",
    "print(stack3)"
   ]
  },
  {
   "cell_type": "code",
   "execution_count": 5,
   "metadata": {},
   "outputs": [
    {
     "name": "stdout",
     "output_type": "stream",
     "text": [
      "0\n",
      "Full:  True\n",
      "Size:  3\n",
      "\n",
      "Elements popped from the stack\n",
      "c\n",
      "b\n",
      "a\n",
      "\n",
      "Empty:  True\n"
     ]
    }
   ],
   "source": [
    "# Using Queue Module\n",
    "\n",
    "from queue import LifoQueue\n",
    "\n",
    "# Initializing a stack\n",
    "stack2 = LifoQueue(maxsize=3)\n",
    "\n",
    "# qsize() show the number of elements\n",
    "# in the stack\n",
    "print(stack2.qsize())\n",
    "\n",
    "# put() function to push\n",
    "# element in the stack\n",
    "stack2.put('a')\n",
    "stack2.put('b')\n",
    "stack2.put('c')\n",
    "\n",
    "print(\"Full: \", stack2.full())\n",
    "print(\"Size: \", stack2.qsize())\n",
    "\n",
    "# get() function to pop                \n",
    "# element from stack in\n",
    "# LIFO order\n",
    "print('\\nElements popped from the stack')\n",
    "print(stack2.get())\n",
    "print(stack2.get())\n",
    "print(stack2.get())\n",
    "\n",
    "print(\"\\nEmpty: \", stack2.empty())\n"
   ]
  },
  {
   "cell_type": "code",
   "execution_count": 4,
   "metadata": {},
   "outputs": [
    {
     "name": "stdout",
     "output_type": "stream",
     "text": [
      "Initial stack\n",
      "['a', 'b', 'c']\n",
      "\n",
      "Elements popped from stack: \n",
      "c\n",
      "b\n",
      "a\n",
      "\n",
      "Stack after elements are popped:\n",
      "[]\n"
     ]
    }
   ],
   "source": [
    "# Using List\n",
    "\n",
    "stack1 = []\n",
    "\n",
    "stack1.append('a')\n",
    "stack1.append('b')\n",
    "stack1.append('c')\n",
    "\n",
    "print('Initial stack')\n",
    "print(stack1)\n",
    "\n",
    "# pop() function to pop\n",
    "print('\\nElements popped from stack: ')\n",
    "print(stack1.pop())\n",
    "print(stack1.pop())\n",
    "print(stack1.pop())\n",
    "\n",
    "print('\\nStack after elements are popped:')\n",
    "print(stack1)"
   ]
  },
  {
   "cell_type": "code",
   "execution_count": 18,
   "metadata": {},
   "outputs": [],
   "source": [
    "# Using a Linked List.\n",
    "# Node Class\n",
    "\n",
    "class Node:\n",
    "\tdef __init__(self, value):\n",
    "\t\tself.value = value\n",
    "\t\tself.next = None\n",
    "\n",
    "class Stack1:\n",
    "\n",
    "\t# Initializing a stack.\n",
    "\t# Use a dummy node, which is\n",
    "\t# easier for handling edge cases.\n",
    "\tdef __init__(self):\n",
    "\t\tself.head = Node(\"head\")\n",
    "\t\tself.size = 0\n",
    "\n",
    "\t# String representation of the stack\n",
    "\tdef __str__(self):\n",
    "\t\tcur = self.head.next\n",
    "\t\tout = \"\"\n",
    "\t\twhile cur:\n",
    "\t\t\tout += str(cur.value) + \"->\"\n",
    "\t\t\tcur = cur.next\n",
    "\t\treturn out[:-2]\n",
    "\n",
    "\t# Get the current size of the stack\n",
    "\tdef getSize(self):\n",
    "\t\treturn self.size\n",
    "\n",
    "\t# Check if the stack is empty\n",
    "\tdef isEmpty(self):\n",
    "\t\treturn self.size == 0\n",
    "\n",
    "\t# Get the top item of the stack\n",
    "\tdef peek(self):\n",
    "\n",
    "\t\t# Sanitary check to see if we\n",
    "\t\t# are peeking an empty stack.\n",
    "\t\tif self.isEmpty():\n",
    "\t\t\traise Exception(\"Peeking from an empty stack\")\n",
    "\t\treturn self.head.next.value\n",
    "\n",
    "\t# Push a value into the stack.\n",
    "\tdef push(self, value):\n",
    "\t\tnode = Node(value)\n",
    "\t\tnode.next = self.head.next\n",
    "\t\tself.head.next = node\n",
    "\t\tself.size += 1\n",
    "\n",
    "\t# Remove a value from the stack and return.\n",
    "\tdef pop(self):\n",
    "\t\tif self.isEmpty():\n",
    "\t\t\traise Exception(\"Popping from an empty stack\")\n",
    "\t\tremove = self.head.next\n",
    "\t\tself.head.next = self.head.next.next\n",
    "\t\tself.size -= 1\n",
    "\t\treturn remove.value\n"
   ]
  },
  {
   "cell_type": "code",
   "execution_count": 27,
   "metadata": {},
   "outputs": [
    {
     "name": "stdout",
     "output_type": "stream",
     "text": [
      "Stack: \n",
      "Pop: 10\n",
      "Pop: 9\n",
      "Pop: 8\n",
      "Pop: 7\n",
      "Pop: 6\n",
      "Stack: \n"
     ]
    }
   ],
   "source": [
    "stack4 = Stack1()\n",
    "for i in range(1, 11):\n",
    "\tstack4.push(i)\n",
    "print(f\"Stack: {stack4}\")\n",
    "\n",
    "for _ in range(1, 6):\n",
    "\tremove = stack4.pop()\n",
    "\tprint(f\"Pop: {remove}\")\n",
    "print(f\"Stack: {stack4}\")"
   ]
  },
  {
   "cell_type": "code",
   "execution_count": 28,
   "metadata": {},
   "outputs": [
    {
     "name": "stdout",
     "output_type": "stream",
     "text": [
      "9->5->3->8->1\n"
     ]
    }
   ],
   "source": [
    "stackl = Stack1()\n",
    "stackl.push(1)\n",
    "stackl.push(8)\n",
    "stackl.push(3)\n",
    "stackl.push(5)\n",
    "stackl.push(9)\n",
    "stackl.push(2)\n",
    "stackl.pop()\n",
    "print(stackl)"
   ]
  }
 ],
 "metadata": {
  "kernelspec": {
   "display_name": "Python 3",
   "language": "python",
   "name": "python3"
  },
  "language_info": {
   "codemirror_mode": {
    "name": "ipython",
    "version": 3
   },
   "file_extension": ".py",
   "mimetype": "text/x-python",
   "name": "python",
   "nbconvert_exporter": "python",
   "pygments_lexer": "ipython3",
   "version": "3.10.11"
  },
  "orig_nbformat": 4,
  "vscode": {
   "interpreter": {
    "hash": "878e1de8ceb0a607bb458e30f23b0baca1010d96d869054ba38e3a2f73cdc1bc"
   }
  }
 },
 "nbformat": 4,
 "nbformat_minor": 2
}
