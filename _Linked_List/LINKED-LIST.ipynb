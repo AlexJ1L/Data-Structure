{
 "cells": [
  {
   "cell_type": "code",
   "execution_count": 5,
   "metadata": {},
   "outputs": [],
   "source": [
    "class Node:\n",
    "    def __init__(self,Value):\n",
    "        self.Value =Value\n",
    "        self.Next =None\n",
    "\n",
    "    def __str__(self):\n",
    "        return str(self.Value)\n",
    "    \n",
    "class LinkedList:\n",
    "    def __init__(self):\n",
    "        self.First = None\n",
    "        self.Size  = 0  #\n",
    "    \n",
    "    def Append(self, Value):\n",
    "        MyNode = Node(Value)\n",
    "        if self.Size == 0:\n",
    "            self.First = MyNode\n",
    "        else:\n",
    "            Current = self.First\n",
    "            while Current.Next != None:\n",
    "                Current = Current.Next\n",
    "            Current.Next = MyNode\n",
    "        \n",
    "        self.Size += 1\n",
    "        \n",
    "        return MyNode\n",
    "    \n",
    "    def Remove(self,Value):\n",
    "        if self.Size == 0:\n",
    "            return False\n",
    "\n",
    "        else:\n",
    "            Current = self.First\n",
    "            try:\n",
    "                while Current.Next.Value != Value:\n",
    "                    Current = Current.Next\n",
    "                DeletedNode = Current.Next\n",
    "                Current.Next= DeletedNode.Next\n",
    "\n",
    "            except AttributeError:\n",
    "                return False\n",
    "        self.Size -= 1\n",
    "        return DeletedNode\n",
    "\n",
    "    def __len__(self):\n",
    "        return self.Size\n",
    "\n",
    "    def __str__(self):\n",
    "        String = \"[\"\n",
    "        Current = self.First\n",
    "        for i in range(len(self)):\n",
    "            String += str(Current)\n",
    "            if i != len(self) -1:\n",
    "                String += str(\", \")\n",
    "            Current = Current.Next\n",
    "        String += \"]\"\n",
    "\n",
    "        return String "
   ]
  },
  {
   "cell_type": "code",
   "execution_count": 8,
   "metadata": {},
   "outputs": [
    {
     "name": "stdout",
     "output_type": "stream",
     "text": [
      "[1, 31, 41, 61, Hola]\n"
     ]
    }
   ],
   "source": [
    "List = LinkedList()\n",
    "List.Append(1)\n",
    "List.Append(21)\n",
    "List.Append(31)\n",
    "List.Append(41)\n",
    "List.Append(61)\n",
    "List.Append(\"Hola\")\n",
    "\n",
    "List.Remove(21)\n",
    "print(List)"
   ]
  }
 ],
 "metadata": {
  "kernelspec": {
   "display_name": "Python 3",
   "language": "python",
   "name": "python3"
  },
  "language_info": {
   "codemirror_mode": {
    "name": "ipython",
    "version": 3
   },
   "file_extension": ".py",
   "mimetype": "text/x-python",
   "name": "python",
   "nbconvert_exporter": "python",
   "pygments_lexer": "ipython3",
   "version": "3.10.11"
  },
  "orig_nbformat": 4,
  "vscode": {
   "interpreter": {
    "hash": "878e1de8ceb0a607bb458e30f23b0baca1010d96d869054ba38e3a2f73cdc1bc"
   }
  }
 },
 "nbformat": 4,
 "nbformat_minor": 2
}
