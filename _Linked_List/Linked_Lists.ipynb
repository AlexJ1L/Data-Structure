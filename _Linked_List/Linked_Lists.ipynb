{
 "cells": [
  {
   "cell_type": "code",
   "execution_count": 14,
   "metadata": {},
   "outputs": [],
   "source": [
    "class Node:\n",
    "    def __init__(self,data,link=None):\n",
    "        self.data = data\n",
    "        self.link = link\n",
    "\n",
    "    def __str__(self):\n",
    "        return str(self.data)\n",
    "    \n",
    "\n",
    "class Linked_List:\n",
    "    def __init__(self):\n",
    "        self._head = None\n",
    "        self.size = 0\n",
    "\n",
    "    def addfirst(self,item):\n",
    "        self._head = Node(item,self._head)\n",
    "        if self.size == 0:#$$$$$\n",
    "            self.link = self._head\n",
    "        else:\n",
    "            Current = self.link\n",
    "            while Current.Next != None:\n",
    "                Current = Current.Next\n",
    "            Current.Next = MyNode\n",
    "        \n",
    "        self.size += 1#$$$$$\n",
    "\n",
    "    def removefirst(self):\n",
    "        item = self._head.data\n",
    "        self._head = self._head.link\n",
    "        return item\n",
    "    \n",
    "    def __len__(self):\n",
    "        return self.size\n",
    "#$$$$$$$$$$\n",
    "    def __str__(self):\n",
    "        String = \"[\"\n",
    "        for i in range(len(self)):\n",
    "            String += str(Current)\n",
    "            if i != len(self) -1:\n",
    "                String += str(\", \")\n",
    "            Current = Current.Next\n",
    "        String += \"]\"\n",
    "\n",
    "        return String "
   ]
  },
  {
   "cell_type": "code",
   "execution_count": 15,
   "metadata": {},
   "outputs": [
    {
     "ename": "UnboundLocalError",
     "evalue": "local variable 'Current' referenced before assignment",
     "output_type": "error",
     "traceback": [
      "\u001b[1;31m---------------------------------------------------------------------------\u001b[0m",
      "\u001b[1;31mUnboundLocalError\u001b[0m                         Traceback (most recent call last)",
      "Cell \u001b[1;32mIn[15], line 3\u001b[0m\n\u001b[0;32m      1\u001b[0m Hola \u001b[39m=\u001b[39m Linked_List()\n\u001b[0;32m      2\u001b[0m Hola\u001b[39m.\u001b[39maddfirst(\u001b[39m20\u001b[39m)\n\u001b[1;32m----> 3\u001b[0m \u001b[39mprint\u001b[39;49m(Hola)\n",
      "Cell \u001b[1;32mIn[14], line 38\u001b[0m, in \u001b[0;36mLinked_List.__str__\u001b[1;34m(self)\u001b[0m\n\u001b[0;32m     36\u001b[0m String \u001b[39m=\u001b[39m \u001b[39m\"\u001b[39m\u001b[39m[\u001b[39m\u001b[39m\"\u001b[39m\n\u001b[0;32m     37\u001b[0m \u001b[39mfor\u001b[39;00m i \u001b[39min\u001b[39;00m \u001b[39mrange\u001b[39m(\u001b[39mlen\u001b[39m(\u001b[39mself\u001b[39m)):\n\u001b[1;32m---> 38\u001b[0m     String \u001b[39m+\u001b[39m\u001b[39m=\u001b[39m \u001b[39mstr\u001b[39m(Current)\n\u001b[0;32m     39\u001b[0m     \u001b[39mif\u001b[39;00m i \u001b[39m!=\u001b[39m \u001b[39mlen\u001b[39m(\u001b[39mself\u001b[39m) \u001b[39m-\u001b[39m\u001b[39m1\u001b[39m:\n\u001b[0;32m     40\u001b[0m         String \u001b[39m+\u001b[39m\u001b[39m=\u001b[39m \u001b[39mstr\u001b[39m(\u001b[39m\"\u001b[39m\u001b[39m, \u001b[39m\u001b[39m\"\u001b[39m)\n",
      "\u001b[1;31mUnboundLocalError\u001b[0m: local variable 'Current' referenced before assignment"
     ]
    }
   ],
   "source": [
    "Hola = Linked_List()\n",
    "Hola.addfirst(20)\n",
    "print(Hola)"
   ]
  }
 ],
 "metadata": {
  "kernelspec": {
   "display_name": "Python 3",
   "language": "python",
   "name": "python3"
  },
  "language_info": {
   "codemirror_mode": {
    "name": "ipython",
    "version": 3
   },
   "file_extension": ".py",
   "mimetype": "text/x-python",
   "name": "python",
   "nbconvert_exporter": "python",
   "pygments_lexer": "ipython3",
   "version": "3.10.11"
  },
  "orig_nbformat": 4
 },
 "nbformat": 4,
 "nbformat_minor": 2
}
