{
 "cells": [
  {
   "attachments": {},
   "cell_type": "markdown",
   "metadata": {},
   "source": [
    "# Binary Search Trees Without Recursion\n"
   ]
  },
  {
   "cell_type": "code",
   "execution_count": null,
   "metadata": {},
   "outputs": [],
   "source": [
    "# Python program to  searching operation\n",
    "# in binary search tree without recursion\n",
    "class newNode:\n",
    "\t# Constructor to create a new node\n",
    "\tdef __init__(self, data):\n",
    "\t\tself.data = data\n",
    "\t\tself.left = None\n",
    "\t\tself.right = None\n",
    "\n",
    "# Function to check the given key exist or not\n",
    "def iterativeSearch(root, key):\n",
    "\t\n",
    "\t# Traverse until root reaches\n",
    "\t# to dead end\n",
    "\twhile root != None:\n",
    "\t\t\n",
    "\t\t# pass right subtree as new tree\n",
    "\t\tif key > root.data:\n",
    "\t\t\troot = root.right\n",
    "\n",
    "\t\t# pass left subtree as new tree\n",
    "\t\telif key < root.data:\n",
    "\t\t\troot = root.left\n",
    "\t\telse:\n",
    "\t\t\treturn True # if the key is found return 1\n",
    "\treturn False\n",
    "\n",
    "# new Node with given key in BST\n",
    "def insert(Node, data):\n",
    "\n",
    "\t# If the tree is empty, return\n",
    "\t# a new Node\n",
    "\tif Node == None:\n",
    "\t\treturn newNode(data)\n",
    "\n",
    "\t# Otherwise, recur down the tree\n",
    "\tif data < Node.data:\n",
    "\t\tNode.left = insert(Node.left, data)\n",
    "\telif data > Node.data:\n",
    "\t\tNode.right = insert(Node.right, data)\n",
    "\n",
    "\t# return the (unchanged) Node pointer\n",
    "\treturn Node\n"
   ]
  },
  {
   "cell_type": "code",
   "execution_count": 22,
   "metadata": {},
   "outputs": [
    {
     "name": "stdout",
     "output_type": "stream",
     "text": [
      "Yes\n"
     ]
    }
   ],
   "source": [
    "# Driver Code\n",
    "# Let us create following BST\n",
    "#    ___50__\n",
    "#   30\t   70\n",
    "#  /  \\   / \\\n",
    "# 20  40 60 80\n",
    "root = newNode(100)\n",
    "insert(root, 50)\n",
    "insert(root, 30)\n",
    "insert(root, 20)\n",
    "insert(root, 40)\n",
    "insert(root, 70)\n",
    "insert(root, 60)\n",
    "insert(root, 80)\n",
    "if iterativeSearch(root, 20):\n",
    "        print(\"Yes\")\n",
    "else:\n",
    "        print(\"No\")\n"
   ]
  },
  {
   "attachments": {},
   "cell_type": "markdown",
   "metadata": {},
   "source": [
    "# BST"
   ]
  },
  {
   "cell_type": "code",
   "execution_count": null,
   "metadata": {},
   "outputs": [],
   "source": [
    "# Python program to demonstrate\n",
    "# insert operation in binary search tree\n",
    "\n",
    "# A utility class that represents\n",
    "# an individual node in a BST\n",
    "class Node:\n",
    "\tdef __init__(self, key):\n",
    "\t\tself.left = None\n",
    "\t\tself.right = None\n",
    "\t\tself.val = key\n",
    "\n",
    "# A utility function to insert\n",
    "# a new node with the given key\n",
    "def insert(root, key):\n",
    "\tif root is None:\n",
    "\t\treturn Node(key)\n",
    "\telse:\n",
    "\t\tif root.val == key:\n",
    "\t\t\treturn root\n",
    "\t\telif root.val < key:\n",
    "\t\t\troot.right = insert(root.right, key)\n",
    "\t\telse:\n",
    "\t\t\troot.left = insert(root.left, key)\n",
    "\treturn root\n",
    "\n",
    "# A utility function to do inorder tree traversal\n",
    "def inorder(root):\n",
    "\tif root:\n",
    "\t\tinorder(root.left)\n",
    "\t\tprint(root.val)\n",
    "\t\tinorder(root.right)"
   ]
  },
  {
   "cell_type": "code",
   "execution_count": 124,
   "metadata": {},
   "outputs": [
    {
     "name": "stdout",
     "output_type": "stream",
     "text": [
      "20-> 30-> 40-> 50-> 60-> 70-> 80-> "
     ]
    }
   ],
   "source": [
    "# Driver program to test the above functions\n",
    "# Let us create the following BST\n",
    "#    __50__\n",
    "#    /\t  \\\n",
    "#   30\t   70\n",
    "#  /  \\   /  \\\n",
    "# 20  40 60  80\n",
    "\n",
    "r = Node(50)\n",
    "r = insert(r, 30)\n",
    "r = insert(r, 20)\n",
    "r = insert(r, 40)\n",
    "r = insert(r, 70)\n",
    "r = insert(r, 60)\n",
    "r = insert(r, 80)\n",
    "\n",
    "# Print inoder traversal of the BST\n",
    "inorder(r)"
   ]
  },
  {
   "attachments": {},
   "cell_type": "markdown",
   "metadata": {},
   "source": [
    "# BST"
   ]
  },
  {
   "cell_type": "code",
   "execution_count": 133,
   "metadata": {},
   "outputs": [
    {
     "name": "stdout",
     "output_type": "stream",
     "text": [
      "10 15 20 30 40 50 60 "
     ]
    }
   ],
   "source": [
    "class GFG:\n",
    "\t@staticmethod\n",
    "\tdef main(args):\n",
    "\t\ttree = BST()\n",
    "\t\ttree.insert(30)\n",
    "\t\ttree.insert(50)\n",
    "\t\ttree.insert(15)\n",
    "\t\ttree.insert(20)\n",
    "\t\ttree.insert(10)\n",
    "\t\ttree.insert(40)\n",
    "\t\ttree.insert(60)\n",
    "\t\ttree.inorder()\n",
    "\n",
    "class Node:\n",
    "\tleft = None\n",
    "\tval = 0\n",
    "\tright = None\n",
    "\n",
    "\tdef __init__(self, val):\n",
    "\t\tself.val = val\n",
    "\n",
    "class BST:\n",
    "\troot = None\n",
    "\n",
    "\tdef insert(self, key):\n",
    "\t\tnode = Node(key)\n",
    "\t\tif (self.root == None):\n",
    "\t\t\tself.root = node\n",
    "\t\t\treturn\n",
    "\t\tprev = None\n",
    "\t\ttemp = self.root\n",
    "\t\twhile (temp != None):\n",
    "\t\t\tif (temp.val > key):\n",
    "\t\t\t\tprev = temp\n",
    "\t\t\t\ttemp = temp.left\n",
    "\t\t\telif(temp.val < key):\n",
    "\t\t\t\tprev = temp\n",
    "\t\t\t\ttemp = temp.right\n",
    "\t\tif (prev.val > key):\n",
    "\t\t\tprev.left = node\n",
    "\t\telse:\n",
    "\t\t\tprev.right = node\n",
    "\n",
    "\tdef inorder(self):\n",
    "\t\ttemp = self.root\n",
    "\t\tstack = []\n",
    "\t\twhile (temp != None or not (len(stack) == 0)):\n",
    "\t\t\tif (temp != None):\n",
    "\t\t\t\tstack.append(temp)\n",
    "\t\t\t\ttemp = temp.left\n",
    "\t\t\telse:\n",
    "\t\t\t\ttemp = stack.pop()\n",
    "\t\t\t\tprint(str(temp.val) + \" \", end=\"\")\n",
    "\t\t\t\ttemp = temp.right\n",
    "\t\t\tif __name__ == \"__main__\":\n",
    "\t\t\t\tGFG.main([])\n"
   ]
  },
  {
   "cell_type": "code",
   "execution_count": 35,
   "metadata": {},
   "outputs": [],
   "source": [
    "# Python program to demonstrate\n",
    "# insert operation in binary search tree\n",
    "\n",
    "# A utility class that represents\n",
    "# an individual node in a BST\n",
    "\n",
    "\n",
    "class Node:\n",
    "\tdef __init__(self, key):\n",
    "\t\tself.left = None\n",
    "\t\tself.right = None\n",
    "\t\tself.val = key\n",
    "\n",
    "# A utility function to insert\n",
    "# a new node with the given key\n",
    "def insert(root, key):\n",
    "\tif root is None:\n",
    "\t\treturn Node(key)\n",
    "\telse:\n",
    "\t\tif root.val == key:\n",
    "\t\t\treturn root\n",
    "\t\telif root.val < key:\n",
    "\t\t\troot.right = insert(root.right, key)\n",
    "\t\telse:\n",
    "\t\t\troot.left = insert(root.left, key)\n",
    "\treturn root\n",
    "\n",
    "# A utility function to do inorder tree traversal\n",
    "def inorder(root):\n",
    "\tif root:\n",
    "\t\tinorder(root.left)\n",
    "\t\tprint(root.val)\n",
    "\t\tinorder(root.right)\n"
   ]
  },
  {
   "cell_type": "code",
   "execution_count": 36,
   "metadata": {},
   "outputs": [
    {
     "name": "stdout",
     "output_type": "stream",
     "text": [
      "20\n",
      "30\n",
      "40\n",
      "50\n",
      "60\n",
      "70\n",
      "80\n"
     ]
    }
   ],
   "source": [
    "# Driver program to test the above functions\n",
    "# Let us create the following BST\n",
    "# 50\n",
    "# /\t \\\n",
    "# 30\t 70\n",
    "# / \\ / \\\n",
    "# 20 40 60 80\n",
    "\n",
    "r = Node(50)\n",
    "r = insert(r, 30)\n",
    "r = insert(r, 20)\n",
    "r = insert(r, 40)\n",
    "r = insert(r, 70)\n",
    "r = insert(r, 60)\n",
    "r = insert(r, 80)\n",
    "\n",
    "# Print inoder traversal of the BST\n",
    "inorder(r)\n"
   ]
  },
  {
   "attachments": {},
   "cell_type": "markdown",
   "metadata": {},
   "source": [
    "# BST"
   ]
  },
  {
   "cell_type": "code",
   "execution_count": 26,
   "metadata": {},
   "outputs": [],
   "source": [
    "# Python code to implement the approach\n",
    "\n",
    "# A Tree node\n",
    "class Node1:\n",
    "\tdef __init__(self):\n",
    "\t\tself.key = 0\n",
    "\t\tself.left = None\n",
    "\t\tself.right = None\n",
    "\n",
    "# Utility function to create a new node\n",
    "def newNode(key):\n",
    "\n",
    "\ttemp = Node()\n",
    "\ttemp.key = key\n",
    "\ttemp.left, temp.right = None, None\n",
    "\treturn temp\n",
    "\n",
    "def inorder(self):\n",
    "\ttemp = self.root\n",
    "\tstack = []\n",
    "\twhile (temp != None or not (len(stack) == 0)):\n",
    "\t\tif (temp != None):\n",
    "\t\t\tstack.append(temp)\n",
    "\t\t\ttemp = temp.left\n",
    "\t\telse:\n",
    "\t\t\ttemp = stack.pop()\n",
    "\t\t\tprint(str(temp.val) + \" \", end=\"\")\n",
    "\t\t\ttemp = temp.right\n",
    "\n",
    "# Function to find the height(depth) of the tree\n",
    "def height(root):\n",
    "\n",
    "\t# Initialising a variable to count the\n",
    "\t# height of tree\n",
    "\tdepth = 0\n",
    "\n",
    "\tq = []\n",
    "\n",
    "\t# appending first level element along with None\n",
    "\tq.append(root)\n",
    "\tq.append(None)\n",
    "\twhile(len(q) > 0):\n",
    "\t\ttemp = q[0]\n",
    "\t\tq = q[1:]\n",
    "\n",
    "\t\t# When None encountered, increment the value\n",
    "\t\tif(temp == None):\n",
    "\t\t\tdepth += 1\n",
    "\n",
    "\t\t# If None not encountered, keep moving\n",
    "\t\tif(temp != None):\n",
    "\t\t\tif(temp.left):\n",
    "\t\t\t\tq.append(temp.left)\n",
    "\n",
    "\t\t\tif(temp.right):\n",
    "\t\t\t\tq.append(temp.right)\n",
    "\n",
    "\t\t# If queue still have elements left,\n",
    "\t\t# append None again to the queue.\n",
    "\t\telif(len(q) > 0):\n",
    "\t\t\tq.append(None)\n",
    "\treturn depth\n"
   ]
  },
  {
   "cell_type": "code",
   "execution_count": 33,
   "metadata": {},
   "outputs": [
    {
     "ename": "NameError",
     "evalue": "name 'Node1' is not defined",
     "output_type": "error",
     "traceback": [
      "\u001b[1;31m---------------------------------------------------------------------------\u001b[0m",
      "\u001b[1;31mNameError\u001b[0m                                 Traceback (most recent call last)",
      "Cell \u001b[1;32mIn[33], line 12\u001b[0m\n\u001b[0;32m      1\u001b[0m \u001b[39m# Driver program\u001b[39;00m\n\u001b[0;32m      2\u001b[0m \u001b[39m# Let us create Binary Tree shown in above example\u001b[39;00m\n\u001b[0;32m      3\u001b[0m \u001b[39m#            __1__\u001b[39;00m\n\u001b[1;32m   (...)\u001b[0m\n\u001b[0;32m     10\u001b[0m \u001b[39m#              \\  \u001b[39;00m\n\u001b[0;32m     11\u001b[0m \u001b[39m#               7  \u001b[39;00m\n\u001b[1;32m---> 12\u001b[0m root \u001b[39m=\u001b[39m Node1()\n\u001b[0;32m     13\u001b[0m root\u001b[39m.\u001b[39mleft \u001b[39m=\u001b[39m Node1(\u001b[39m2\u001b[39m)\n\u001b[0;32m     14\u001b[0m root\u001b[39m.\u001b[39mright \u001b[39m=\u001b[39m Node1(\u001b[39m3\u001b[39m)\n",
      "\u001b[1;31mNameError\u001b[0m: name 'Node1' is not defined"
     ]
    }
   ],
   "source": [
    "# Driver program\n",
    "# Let us create Binary Tree shown in above example\n",
    "#            __1__\n",
    "#            /   \\\n",
    "#         __2__   3\n",
    "#         /   \\\n",
    "#        4   __5__\n",
    "#            /   \n",
    "#         __10__\n",
    "#              \\  \n",
    "#               7  \n",
    "root = Node1()\n",
    "root.left = Node1(2)\n",
    "root.right = Node1(3)\n",
    "root.left.left = Node1(4)\n",
    "root.left.right = Node1(5)\n",
    "root.left.right.left = Node1(10)\n",
    "root.left.right.left.right = Node1(7)\n",
    "\n",
    "print(f\"Height(Depth) of tree is: {height(root)}\")\n",
    "inorder(root)\n",
    "\n",
    "# This code is contributed by shinjanpatra\n"
   ]
  },
  {
   "attachments": {},
   "cell_type": "markdown",
   "metadata": {},
   "source": [
    "# More"
   ]
  },
  {
   "cell_type": "code",
   "execution_count": 5,
   "metadata": {},
   "outputs": [
    {
     "ename": "SyntaxError",
     "evalue": "invalid syntax (3321089780.py, line 22)",
     "output_type": "error",
     "traceback": [
      "\u001b[1;36m  Cell \u001b[1;32mIn[5], line 22\u001b[1;36m\u001b[0m\n\u001b[1;33m    else:   #values are more than the key value\u001b[0m\n\u001b[1;37m    ^\u001b[0m\n\u001b[1;31mSyntaxError\u001b[0m\u001b[1;31m:\u001b[0m invalid syntax\n"
     ]
    }
   ],
   "source": [
    "class binary_tree:\n",
    "    def __init__(self, key):   #function to insert data to our binary tree\n",
    "        self.leftchild = None #setting leftchild of the tree to add items\n",
    "        self.rightchild = None #setting rightchild of the tree to add items\n",
    "        self.key = key\n",
    "\n",
    "    class binary_tree:\n",
    "        def __init__(self): #generate a tree to hold values \n",
    "            self.root = None\n",
    "\n",
    "        def add(self, value): #function to add data items to the tree\n",
    "            if self.key is None:\n",
    "                self.key = data #begin adding elements to the binary tree\n",
    "                return\n",
    "            if self.key == value:   # this will take care for duplicate nodes\n",
    "                return              \n",
    "            if value < self.key:  #if value of the key node is more than the leftchild accept values\n",
    "                if self.leftchild:\n",
    "                    self.leftchild.add(value) #set values to the leftchild of the tree\n",
    "                else:   \n",
    "                    self.leftchild = binary_tree(value)\n",
    "                    else:   #values are more than the key value\n",
    "                        if self.rightchild:     #if on the rigghtchild of the tree\n",
    "                            self.rightchild.add(value)  #set values to rightchild\n",
    "                        else:\n",
    "                            self.rightchild = binary_tree(value) #values cannot be less then the root key\n",
    "\n",
    "        def check(self,value):    #check for empty values \n",
    "        if self.key is None:  #if value is set  to None\n",
    "            self.key = value\n",
    "\n",
    "        def search(self, value):\n",
    "        if self.key == value:     #check if value is equal to the key val\n",
    "            print(\"The node is present\")\n",
    "            return\n",
    "        if value < self.key:    #Here left subtree can be empty or it can contain one or more nodes\n",
    "            if self.leftchild:   #this condition is true if left subtree exists\n",
    "                self.leftchild.search(value)\n",
    "            else:\n",
    "                print(\"The node is empty in the tree!\")\n",
    "        else:\n",
    "            if self.rightchild:\n",
    "                self.rightchild.search(value)   #search for all the values in the rightchild\n",
    "                return True\n",
    "            else:   \n",
    "                print(\"The node is empty in the tree!\")          #print out empty rightchild nodes in the tree"
   ]
  },
  {
   "cell_type": "code",
   "execution_count": 2,
   "metadata": {},
   "outputs": [
    {
     "ename": "NameError",
     "evalue": "name 'binary_tree' is not defined",
     "output_type": "error",
     "traceback": [
      "\u001b[1;31m---------------------------------------------------------------------------\u001b[0m",
      "\u001b[1;31mNameError\u001b[0m                                 Traceback (most recent call last)",
      "Cell \u001b[1;32mIn[2], line 1\u001b[0m\n\u001b[1;32m----> 1\u001b[0m Hola \u001b[39m=\u001b[39m binary_tree(\u001b[39m1\u001b[39m)\n\u001b[0;32m      2\u001b[0m Hola\u001b[39m.\u001b[39madd(\u001b[39m270\u001b[39m)\n\u001b[0;32m      3\u001b[0m Hola\u001b[39m.\u001b[39madd(\u001b[39m220\u001b[39m)\n",
      "\u001b[1;31mNameError\u001b[0m: name 'binary_tree' is not defined"
     ]
    }
   ],
   "source": [
    "Hola = binary_tree(1)\n",
    "Hola.add(270)\n",
    "Hola.add(220)\n",
    "Hola.add(280)\n",
    "Hola.add(240)\n",
    "Hola.check(20)\n",
    "print(Hola)"
   ]
  },
  {
   "cell_type": "code",
   "execution_count": 116,
   "metadata": {},
   "outputs": [],
   "source": [
    "# Creando el Root\n",
    "class Node:\n",
    "    def __init__(self, data):\n",
    "        self.left = None\n",
    "        self.right = None\n",
    "        self.data = data\n",
    "        \n",
    "    def PrintTree(self):\n",
    "        print(self.data)\n"
   ]
  },
  {
   "cell_type": "code",
   "execution_count": 117,
   "metadata": {},
   "outputs": [
    {
     "name": "stdout",
     "output_type": "stream",
     "text": [
      "10\n"
     ]
    }
   ],
   "source": [
    "root = Node(10)\n",
    "root.PrintTree()"
   ]
  },
  {
   "attachments": {},
   "cell_type": "markdown",
   "metadata": {},
   "source": [
    "# BST"
   ]
  },
  {
   "cell_type": "code",
   "execution_count": 135,
   "metadata": {},
   "outputs": [],
   "source": [
    "class Node:\n",
    "    def __init__(self, data):\n",
    "        self.left = None\n",
    "        self.right = None\n",
    "        self.data = data\n",
    "\n",
    "    def insert(self, data):\n",
    "    # Compare the new value with the parent node\n",
    "        if self.data:\n",
    "            if data < self.data:\n",
    "                if self.left is None:\n",
    "                    self.left = Node(data)\n",
    "                else:\n",
    "                    self.left.insert(data)\n",
    "            elif data > self.data:\n",
    "                if self.right is None:\n",
    "                    self.right = Node(data)\n",
    "                else:\n",
    "                    self.right.insert(data)\n",
    "        else:\n",
    "            self.data = data\n",
    "\n",
    "    # Print the tree\n",
    "    def PrintTree(self):\n",
    "        if self.left:\n",
    "            self.left.PrintTree()\n",
    "        print( self.data),\n",
    "        if self.right:\n",
    "            self.right.PrintTree()"
   ]
  },
  {
   "cell_type": "code",
   "execution_count": 136,
   "metadata": {},
   "outputs": [
    {
     "name": "stdout",
     "output_type": "stream",
     "text": [
      "3\n",
      "6\n",
      "7\n",
      "12\n",
      "14\n"
     ]
    }
   ],
   "source": [
    "# Use the insert method to add nodes\n",
    "#    __12__\n",
    "#    /    \\\n",
    "#   6     14\n",
    "#  / \\\n",
    "# 3   7\n",
    "root = Node(12)\n",
    "root.insert(6)\n",
    "root.insert(14)\n",
    "root.insert(7)\n",
    "root.insert(3)\n",
    "root.PrintTree()"
   ]
  }
 ],
 "metadata": {
  "kernelspec": {
   "display_name": "Python 3",
   "language": "python",
   "name": "python3"
  },
  "language_info": {
   "codemirror_mode": {
    "name": "ipython",
    "version": 3
   },
   "file_extension": ".py",
   "mimetype": "text/x-python",
   "name": "python",
   "nbconvert_exporter": "python",
   "pygments_lexer": "ipython3",
   "version": "3.10.11"
  },
  "orig_nbformat": 4
 },
 "nbformat": 4,
 "nbformat_minor": 2
}
