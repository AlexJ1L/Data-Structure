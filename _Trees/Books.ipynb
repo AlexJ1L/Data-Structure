{
 "cells": [
  {
   "cell_type": "code",
   "execution_count": null,
   "metadata": {},
   "outputs": [],
   "source": [
    "from ds2.mapping import Mapping\n",
    "    class BSTMapping(Mapping):\n",
    "        def __init__(self):\n",
    "            self._root = None\n",
    "    def get(self, key):\n",
    "        if self._root:\n",
    "            return self._root.get(key).value\n",
    "            raise KeyError\n",
    "def put(self, key, value):\n",
    "if self._root:\n",
    "self.root = self._root.put(key, value)\n",
    "else:\n",
    "self._root = BSTNode(key, value)\n",
    "def __len__(self):\n",
    "return len(self._root) if self._root is not None else 0\n",
    "def _entryiter(self):\n",
    "if self._root:\n",
    "yield from self._root\n",
    "#162 CHAPTER 17. BINARY SEARCH TREES\n",
    "def floor(self, key):\n",
    "if self._root:\n",
    "floornode = self._root.floor(key)\n",
    "if floornode is not None:\n",
    "return floornode.key, floornode.value\n",
    "return None, None\n",
    "def remove(self, key):\n",
    "if self._root:\n",
    "self._root = self._root.remove(key)\n",
    "else:\n",
    "raise KeyError\n",
    "def __delitem__(self, key):\n",
    "self.remove(key)\n"
   ]
  }
 ],
 "metadata": {
  "language_info": {
   "name": "python"
  },
  "orig_nbformat": 4
 },
 "nbformat": 4,
 "nbformat_minor": 2
}
